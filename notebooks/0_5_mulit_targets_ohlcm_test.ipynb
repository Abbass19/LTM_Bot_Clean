{
 "cells": [
  {
   "cell_type": "code",
   "execution_count": 509,
   "metadata": {},
   "outputs": [],
   "source": [
    "import pandas as pd\n",
    "import numpy as np\n",
    "import psycopg2\n",
    "import requests\n",
    "import json\n",
    "\n",
    "from sklearn.preprocessing import RobustScaler\n",
    "\n",
    "import tensorflow as tf\n",
    "from tensorflow.keras.layers import Dense, LSTM \n",
    "\n",
    "from keras.optimizers import Adam\n",
    "\n",
    "pd.options.display.max_columns = None"
   ]
  },
  {
   "cell_type": "code",
   "execution_count": 510,
   "metadata": {},
   "outputs": [],
   "source": [
    "def new_target_column(dataframe,target_code , shift_back_period):\n",
    "    prev_target = dataframe[target_code]\n",
    "    new_target = prev_target[:-shift_back_period]\n",
    "    first_dates_handling = [0] * shift_back_period\n",
    "    new_target=np.concatenate((first_dates_handling,new_target))\n",
    "    return new_target\n",
    "\n",
    "def make_query(query,endpoint):\n",
    "    headers = {\n",
    "        'Accept-Encoding': 'gzip, deflate, br',\n",
    "        'Content-Type': 'application/json',\n",
    "        'Accept': 'application/json',\n",
    "        'Connection': 'keep-alive',\n",
    "        'DNT': '1'\n",
    "    }\n",
    "\n",
    "    response = requests.post(endpoint,json={\"query\":query},headers=headers)\n",
    "    return response\n",
    "\n",
    "def execute_FTP(values,index,columns,pretreatment_attrs=None):\n",
    "    pretreatment_attrs = json.dumps(pretreatment_attrs)\n",
    "    query = f\"\"\"\n",
    "        query {{\n",
    "            featuresTargetsPretreatment(\n",
    "                values: {values}, \n",
    "                index: {index},\n",
    "                columns: {columns},\n",
    "                pretreatment_attrs: {pretreatment_attrs}) {{\n",
    "                    success,\n",
    "                    error,\n",
    "                    pretreated_values\n",
    "                    index,\n",
    "                    columns,\n",
    "                    pretreatment_info\n",
    "                }}\n",
    "        }}\n",
    "    \"\"\"\n",
    "\n",
    "    ftp_response = make_query(query=query,endpoint='http://172.31.16.204:8000/graphql')\n",
    "    return ftp_response\n",
    "\n",
    "def building_data_sequences(data_X, data_Y, timesteps):\n",
    "    #generate data sequence with timesteps\n",
    "    X, y_MPNxP = [], [] \n",
    "    for i in range(len(data_X) - timesteps + 1):\n",
    "        sequence = data_X[i:(i + timesteps), :]\n",
    "        target = data_Y[i + timesteps - 1]\n",
    "        X.append(sequence)\n",
    "        y_MPNxP.append(target)\n",
    "    return np.array(X), [np.array(y_MPNxP)]\n",
    "\n",
    "def custom_loss_function(attenuated_padding_value):\n",
    "\n",
    "  def padding_loss_function(y_true, y_pred):\n",
    "\n",
    "    y_pred = tf.multiply(y_pred, attenuated_padding_value) #this is the multiplication between the predictions and the attenuated_padding_value\n",
    "\n",
    "    squared_difference = tf.square(y_true - y_pred)\n",
    "\n",
    "    return tf.reduce_mean(squared_difference, axis=-1) #mse\n",
    "\n",
    "  return padding_loss_function\n",
    "\n",
    "def compile_model(input_shape, iteration, model_case_version_main_target_code, optimizer, attenuated_padding_value, output_shape):\n",
    "    twoexp_nodes_number_layer_1 = 7\n",
    "    twoexp_nodes_number_layer_2 = 10\n",
    "    twoexp_nodes_number_layer_3 = 7\n",
    "    twoexp_nodes_number_layer_4 = 6\n",
    "    twoexp_nodes_number_layer_5 = 0\n",
    "\n",
    "    tf.keras.backend.clear_session()\n",
    "    model= tf.keras.Sequential()\n",
    "    '''The layers of the model (see case_version_cat Tab)'''\n",
    "    model.add(LSTM(2**twoexp_nodes_number_layer_1,input_shape=input_shape,return_sequences=True, name=f'prediction_lstm_0_for_iteration_{iteration}'))\n",
    "    model.add(LSTM(2**twoexp_nodes_number_layer_2, return_sequences=True,name = f'prediction_lstm_1_for_iteration_{iteration}'))\n",
    "    model.add(LSTM(2**twoexp_nodes_number_layer_3,name = f'prediction_lstm_2_for_iteration_{iteration}'))\n",
    "    model.add(Dense(2**twoexp_nodes_number_layer_4, name = f'prediction_dense_0_for_iteration_{iteration}'))\n",
    "    model.add(Dense(output_shape, name = f'prediction_dense_1_for_iteration_{iteration}'))\n",
    "\n",
    "    model.compile(optimizer = optimizer, loss = custom_loss_function(attenuated_padding_value))\n",
    "\n",
    "    return model\n"
   ]
  },
  {
   "cell_type": "code",
   "execution_count": 511,
   "metadata": {},
   "outputs": [],
   "source": [
    "DBNAME='dyDATA_new'\n",
    "DATABASE_HOST='database-1.ctzm0hf7fhri.eu-central-1.rds.amazonaws.com'\n",
    "USER='postgres'\n",
    "PASSWORD='Proc2023awsrdspostgresql'\n",
    "DATABASE_PORT=5432\n",
    "\n",
    "ASSET = 'MSFT'\n",
    "model_case_version_main_target_code = '5'\n",
    "\n",
    "use_cols ={\n",
    "       'cleaned_raw_features_DCP_date_current_period' : 'DCP',\n",
    "       'calculated_features_DNCP' : 'DNCP',\n",
    "       'cleaned_raw_features_OPCP_open_price_current_period' : 'OPCP',\n",
    "       'cleaned_raw_features_HPCP_high_price_current_period' : 'HPCP',\n",
    "       'cleaned_raw_features_LPCP_low_price_current_period' : 'LPCP',\n",
    "       'cleaned_raw_features_CPCP_close_price_current_period' : 'CPCP',\n",
    "       'cleaned_raw_features_ACPCP_adjusted_close_price_current_period' : 'ACPCP',\n",
    "       'cleaned_raw_features_VTCP_volume_of_transactions_current_period' : 'VTCP',\n",
    "       'calculated_targets_LPN' +  model_case_version_main_target_code + 'P' : 'LPN' + model_case_version_main_target_code + 'P',\n",
    "       'calculated_targets_HPN' +  model_case_version_main_target_code + 'P' : 'HPN' + model_case_version_main_target_code + 'P',\n",
    "       'calculated_targets_MPN' +  model_case_version_main_target_code + 'P' : 'MPN' + model_case_version_main_target_code + 'P',\n",
    "}\n",
    "\n",
    "timesteps = 10"
   ]
  },
  {
   "cell_type": "code",
   "execution_count": 512,
   "metadata": {},
   "outputs": [
    {
     "name": "stderr",
     "output_type": "stream",
     "text": [
      "/tmp/ipykernel_1911/3505839591.py:12: UserWarning: pandas only supports SQLAlchemy connectable (engine/connection) or database string URI or sqlite3 DBAPI2 connection. Other DBAPI2 objects are not tested. Please consider using SQLAlchemy.\n",
      "  features_targets_input_view = pd.read_sql(query,conn)\n"
     ]
    }
   ],
   "source": [
    "connection_params = {\n",
    "    \"host\": DATABASE_HOST,\n",
    "    \"port\": DATABASE_PORT,\n",
    "    \"user\": USER,\n",
    "    \"password\": PASSWORD,\n",
    "    \"database\": DBNAME\n",
    "}\n",
    "\n",
    "conn = psycopg2.connect(**connection_params)\n",
    "\n",
    "query = f'SELECT * FROM \"ASSET_{ASSET}\".features_targets_input_view WHERE features_targets_input_view.\"cleaned_raw_features_environment_PK\" = 4'\n",
    "features_targets_input_view = pd.read_sql(query,conn)\n",
    "features_targets_input_view = features_targets_input_view[list(use_cols.keys())]\n",
    "features_targets_input_view.rename(columns=use_cols, inplace=True)"
   ]
  },
  {
   "cell_type": "code",
   "execution_count": 513,
   "metadata": {},
   "outputs": [
    {
     "data": {
      "text/html": [
       "<div>\n",
       "<style scoped>\n",
       "    .dataframe tbody tr th:only-of-type {\n",
       "        vertical-align: middle;\n",
       "    }\n",
       "\n",
       "    .dataframe tbody tr th {\n",
       "        vertical-align: top;\n",
       "    }\n",
       "\n",
       "    .dataframe thead th {\n",
       "        text-align: right;\n",
       "    }\n",
       "</style>\n",
       "<table border=\"1\" class=\"dataframe\">\n",
       "  <thead>\n",
       "    <tr style=\"text-align: right;\">\n",
       "      <th></th>\n",
       "      <th>DCP</th>\n",
       "      <th>DNCP</th>\n",
       "      <th>OPCP</th>\n",
       "      <th>HPCP</th>\n",
       "      <th>LPCP</th>\n",
       "      <th>CPCP</th>\n",
       "      <th>ACPCP</th>\n",
       "      <th>VTCP</th>\n",
       "      <th>LPN5P</th>\n",
       "      <th>HPN5P</th>\n",
       "      <th>MPN5P</th>\n",
       "    </tr>\n",
       "  </thead>\n",
       "  <tbody>\n",
       "    <tr>\n",
       "      <th>6094</th>\n",
       "      <td>2024-03-25</td>\n",
       "      <td>45376.0</td>\n",
       "      <td>425.240</td>\n",
       "      <td>427.41</td>\n",
       "      <td>421.61</td>\n",
       "      <td>422.86</td>\n",
       "      <td>422.86</td>\n",
       "      <td>17860400.0</td>\n",
       "      <td>419.01</td>\n",
       "      <td>427.89</td>\n",
       "      <td>422.86</td>\n",
       "    </tr>\n",
       "    <tr>\n",
       "      <th>6095</th>\n",
       "      <td>2024-03-26</td>\n",
       "      <td>45377.0</td>\n",
       "      <td>425.610</td>\n",
       "      <td>425.99</td>\n",
       "      <td>421.35</td>\n",
       "      <td>421.65</td>\n",
       "      <td>421.65</td>\n",
       "      <td>16690800.0</td>\n",
       "      <td>419.01</td>\n",
       "      <td>427.89</td>\n",
       "      <td>422.86</td>\n",
       "    </tr>\n",
       "    <tr>\n",
       "      <th>6096</th>\n",
       "      <td>2024-03-27</td>\n",
       "      <td>45378.0</td>\n",
       "      <td>424.440</td>\n",
       "      <td>424.45</td>\n",
       "      <td>419.01</td>\n",
       "      <td>421.43</td>\n",
       "      <td>421.43</td>\n",
       "      <td>16690300.0</td>\n",
       "      <td>419.01</td>\n",
       "      <td>427.89</td>\n",
       "      <td>422.86</td>\n",
       "    </tr>\n",
       "    <tr>\n",
       "      <th>6097</th>\n",
       "      <td>2024-03-28</td>\n",
       "      <td>45379.0</td>\n",
       "      <td>420.960</td>\n",
       "      <td>421.87</td>\n",
       "      <td>419.12</td>\n",
       "      <td>420.72</td>\n",
       "      <td>420.72</td>\n",
       "      <td>21861700.0</td>\n",
       "      <td>419.01</td>\n",
       "      <td>427.89</td>\n",
       "      <td>422.86</td>\n",
       "    </tr>\n",
       "    <tr>\n",
       "      <th>6098</th>\n",
       "      <td>2024-04-01</td>\n",
       "      <td>45383.0</td>\n",
       "      <td>423.945</td>\n",
       "      <td>427.89</td>\n",
       "      <td>422.22</td>\n",
       "      <td>424.57</td>\n",
       "      <td>424.57</td>\n",
       "      <td>14744117.0</td>\n",
       "      <td>419.01</td>\n",
       "      <td>427.89</td>\n",
       "      <td>422.86</td>\n",
       "    </tr>\n",
       "  </tbody>\n",
       "</table>\n",
       "</div>"
      ],
      "text/plain": [
       "             DCP     DNCP     OPCP    HPCP    LPCP    CPCP   ACPCP  \\\n",
       "6094  2024-03-25  45376.0  425.240  427.41  421.61  422.86  422.86   \n",
       "6095  2024-03-26  45377.0  425.610  425.99  421.35  421.65  421.65   \n",
       "6096  2024-03-27  45378.0  424.440  424.45  419.01  421.43  421.43   \n",
       "6097  2024-03-28  45379.0  420.960  421.87  419.12  420.72  420.72   \n",
       "6098  2024-04-01  45383.0  423.945  427.89  422.22  424.57  424.57   \n",
       "\n",
       "            VTCP   LPN5P   HPN5P   MPN5P  \n",
       "6094  17860400.0  419.01  427.89  422.86  \n",
       "6095  16690800.0  419.01  427.89  422.86  \n",
       "6096  16690300.0  419.01  427.89  422.86  \n",
       "6097  21861700.0  419.01  427.89  422.86  \n",
       "6098  14744117.0  419.01  427.89  422.86  "
      ]
     },
     "execution_count": 513,
     "metadata": {},
     "output_type": "execute_result"
    }
   ],
   "source": [
    "features_targets_input_view.tail()"
   ]
  },
  {
   "cell_type": "code",
   "execution_count": 514,
   "metadata": {},
   "outputs": [
    {
     "name": "stdout",
     "output_type": "stream",
     "text": [
      "8\n",
      "14\n",
      "20\n"
     ]
    }
   ],
   "source": [
    "target_codes = features_targets_input_view.columns[-3:]\n",
    "targets = []\n",
    "\n",
    "for target_code in target_codes:\n",
    "    base_target_column_index = features_targets_input_view.columns.get_loc(target_code)\n",
    "    print(base_target_column_index)\n",
    "    new_target_index = base_target_column_index\n",
    "    for i in range(int(model_case_version_main_target_code)):\n",
    "        new_target_code = target_code[:3] + '-' + str(i+1) + 'P'\n",
    "        features_targets_input_view.insert(new_target_index+1,new_target_code,new_target_column(features_targets_input_view,target_code,i+1))\n",
    "        new_target_index = new_target_index + 1\n",
    "        targets.append(new_target_code)\n",
    "\n",
    "targets.extend(target_codes)\n",
    "dataframe = features_targets_input_view.iloc[int(model_case_version_main_target_code):]\n",
    "#dataframe.set_index('DCP', inplace=True)"
   ]
  },
  {
   "cell_type": "code",
   "execution_count": 515,
   "metadata": {},
   "outputs": [
    {
     "data": {
      "text/html": [
       "<div>\n",
       "<style scoped>\n",
       "    .dataframe tbody tr th:only-of-type {\n",
       "        vertical-align: middle;\n",
       "    }\n",
       "\n",
       "    .dataframe tbody tr th {\n",
       "        vertical-align: top;\n",
       "    }\n",
       "\n",
       "    .dataframe thead th {\n",
       "        text-align: right;\n",
       "    }\n",
       "</style>\n",
       "<table border=\"1\" class=\"dataframe\">\n",
       "  <thead>\n",
       "    <tr style=\"text-align: right;\">\n",
       "      <th></th>\n",
       "      <th>DCP</th>\n",
       "      <th>DNCP</th>\n",
       "      <th>OPCP</th>\n",
       "      <th>HPCP</th>\n",
       "      <th>LPCP</th>\n",
       "      <th>CPCP</th>\n",
       "      <th>ACPCP</th>\n",
       "      <th>VTCP</th>\n",
       "      <th>LPN5P</th>\n",
       "      <th>LPN-1P</th>\n",
       "      <th>LPN-2P</th>\n",
       "      <th>LPN-3P</th>\n",
       "      <th>LPN-4P</th>\n",
       "      <th>LPN-5P</th>\n",
       "      <th>HPN5P</th>\n",
       "      <th>HPN-1P</th>\n",
       "      <th>HPN-2P</th>\n",
       "      <th>HPN-3P</th>\n",
       "      <th>HPN-4P</th>\n",
       "      <th>HPN-5P</th>\n",
       "      <th>MPN5P</th>\n",
       "      <th>MPN-1P</th>\n",
       "      <th>MPN-2P</th>\n",
       "      <th>MPN-3P</th>\n",
       "      <th>MPN-4P</th>\n",
       "      <th>MPN-5P</th>\n",
       "    </tr>\n",
       "  </thead>\n",
       "  <tbody>\n",
       "    <tr>\n",
       "      <th>6094</th>\n",
       "      <td>2024-03-25</td>\n",
       "      <td>45376.0</td>\n",
       "      <td>425.240</td>\n",
       "      <td>427.41</td>\n",
       "      <td>421.61</td>\n",
       "      <td>422.86</td>\n",
       "      <td>422.86</td>\n",
       "      <td>17860400.0</td>\n",
       "      <td>419.01</td>\n",
       "      <td>419.01</td>\n",
       "      <td>419.01</td>\n",
       "      <td>419.01</td>\n",
       "      <td>420.66</td>\n",
       "      <td>415.55</td>\n",
       "      <td>427.89</td>\n",
       "      <td>427.89</td>\n",
       "      <td>429.86</td>\n",
       "      <td>430.82</td>\n",
       "      <td>430.82</td>\n",
       "      <td>430.82</td>\n",
       "      <td>422.86</td>\n",
       "      <td>422.86</td>\n",
       "      <td>423.65</td>\n",
       "      <td>425.61</td>\n",
       "      <td>425.96</td>\n",
       "      <td>425.24</td>\n",
       "    </tr>\n",
       "    <tr>\n",
       "      <th>6095</th>\n",
       "      <td>2024-03-26</td>\n",
       "      <td>45377.0</td>\n",
       "      <td>425.610</td>\n",
       "      <td>425.99</td>\n",
       "      <td>421.35</td>\n",
       "      <td>421.65</td>\n",
       "      <td>421.65</td>\n",
       "      <td>16690800.0</td>\n",
       "      <td>419.01</td>\n",
       "      <td>419.01</td>\n",
       "      <td>419.01</td>\n",
       "      <td>419.01</td>\n",
       "      <td>419.01</td>\n",
       "      <td>420.66</td>\n",
       "      <td>427.89</td>\n",
       "      <td>427.89</td>\n",
       "      <td>427.89</td>\n",
       "      <td>429.86</td>\n",
       "      <td>430.82</td>\n",
       "      <td>430.82</td>\n",
       "      <td>422.86</td>\n",
       "      <td>422.86</td>\n",
       "      <td>422.86</td>\n",
       "      <td>423.65</td>\n",
       "      <td>425.61</td>\n",
       "      <td>425.96</td>\n",
       "    </tr>\n",
       "    <tr>\n",
       "      <th>6096</th>\n",
       "      <td>2024-03-27</td>\n",
       "      <td>45378.0</td>\n",
       "      <td>424.440</td>\n",
       "      <td>424.45</td>\n",
       "      <td>419.01</td>\n",
       "      <td>421.43</td>\n",
       "      <td>421.43</td>\n",
       "      <td>16690300.0</td>\n",
       "      <td>419.01</td>\n",
       "      <td>419.01</td>\n",
       "      <td>419.01</td>\n",
       "      <td>419.01</td>\n",
       "      <td>419.01</td>\n",
       "      <td>419.01</td>\n",
       "      <td>427.89</td>\n",
       "      <td>427.89</td>\n",
       "      <td>427.89</td>\n",
       "      <td>427.89</td>\n",
       "      <td>429.86</td>\n",
       "      <td>430.82</td>\n",
       "      <td>422.86</td>\n",
       "      <td>422.86</td>\n",
       "      <td>422.86</td>\n",
       "      <td>422.86</td>\n",
       "      <td>423.65</td>\n",
       "      <td>425.61</td>\n",
       "    </tr>\n",
       "    <tr>\n",
       "      <th>6097</th>\n",
       "      <td>2024-03-28</td>\n",
       "      <td>45379.0</td>\n",
       "      <td>420.960</td>\n",
       "      <td>421.87</td>\n",
       "      <td>419.12</td>\n",
       "      <td>420.72</td>\n",
       "      <td>420.72</td>\n",
       "      <td>21861700.0</td>\n",
       "      <td>419.01</td>\n",
       "      <td>419.01</td>\n",
       "      <td>419.01</td>\n",
       "      <td>419.01</td>\n",
       "      <td>419.01</td>\n",
       "      <td>419.01</td>\n",
       "      <td>427.89</td>\n",
       "      <td>427.89</td>\n",
       "      <td>427.89</td>\n",
       "      <td>427.89</td>\n",
       "      <td>427.89</td>\n",
       "      <td>429.86</td>\n",
       "      <td>422.86</td>\n",
       "      <td>422.86</td>\n",
       "      <td>422.86</td>\n",
       "      <td>422.86</td>\n",
       "      <td>422.86</td>\n",
       "      <td>423.65</td>\n",
       "    </tr>\n",
       "    <tr>\n",
       "      <th>6098</th>\n",
       "      <td>2024-04-01</td>\n",
       "      <td>45383.0</td>\n",
       "      <td>423.945</td>\n",
       "      <td>427.89</td>\n",
       "      <td>422.22</td>\n",
       "      <td>424.57</td>\n",
       "      <td>424.57</td>\n",
       "      <td>14744117.0</td>\n",
       "      <td>419.01</td>\n",
       "      <td>419.01</td>\n",
       "      <td>419.01</td>\n",
       "      <td>419.01</td>\n",
       "      <td>419.01</td>\n",
       "      <td>419.01</td>\n",
       "      <td>427.89</td>\n",
       "      <td>427.89</td>\n",
       "      <td>427.89</td>\n",
       "      <td>427.89</td>\n",
       "      <td>427.89</td>\n",
       "      <td>427.89</td>\n",
       "      <td>422.86</td>\n",
       "      <td>422.86</td>\n",
       "      <td>422.86</td>\n",
       "      <td>422.86</td>\n",
       "      <td>422.86</td>\n",
       "      <td>422.86</td>\n",
       "    </tr>\n",
       "  </tbody>\n",
       "</table>\n",
       "</div>"
      ],
      "text/plain": [
       "             DCP     DNCP     OPCP    HPCP    LPCP    CPCP   ACPCP  \\\n",
       "6094  2024-03-25  45376.0  425.240  427.41  421.61  422.86  422.86   \n",
       "6095  2024-03-26  45377.0  425.610  425.99  421.35  421.65  421.65   \n",
       "6096  2024-03-27  45378.0  424.440  424.45  419.01  421.43  421.43   \n",
       "6097  2024-03-28  45379.0  420.960  421.87  419.12  420.72  420.72   \n",
       "6098  2024-04-01  45383.0  423.945  427.89  422.22  424.57  424.57   \n",
       "\n",
       "            VTCP   LPN5P  LPN-1P  LPN-2P  LPN-3P  LPN-4P  LPN-5P   HPN5P  \\\n",
       "6094  17860400.0  419.01  419.01  419.01  419.01  420.66  415.55  427.89   \n",
       "6095  16690800.0  419.01  419.01  419.01  419.01  419.01  420.66  427.89   \n",
       "6096  16690300.0  419.01  419.01  419.01  419.01  419.01  419.01  427.89   \n",
       "6097  21861700.0  419.01  419.01  419.01  419.01  419.01  419.01  427.89   \n",
       "6098  14744117.0  419.01  419.01  419.01  419.01  419.01  419.01  427.89   \n",
       "\n",
       "      HPN-1P  HPN-2P  HPN-3P  HPN-4P  HPN-5P   MPN5P  MPN-1P  MPN-2P  MPN-3P  \\\n",
       "6094  427.89  429.86  430.82  430.82  430.82  422.86  422.86  423.65  425.61   \n",
       "6095  427.89  427.89  429.86  430.82  430.82  422.86  422.86  422.86  423.65   \n",
       "6096  427.89  427.89  427.89  429.86  430.82  422.86  422.86  422.86  422.86   \n",
       "6097  427.89  427.89  427.89  427.89  429.86  422.86  422.86  422.86  422.86   \n",
       "6098  427.89  427.89  427.89  427.89  427.89  422.86  422.86  422.86  422.86   \n",
       "\n",
       "      MPN-4P  MPN-5P  \n",
       "6094  425.96  425.24  \n",
       "6095  425.61  425.96  \n",
       "6096  423.65  425.61  \n",
       "6097  422.86  423.65  \n",
       "6098  422.86  422.86  "
      ]
     },
     "execution_count": 515,
     "metadata": {},
     "output_type": "execute_result"
    }
   ],
   "source": [
    "dataframe.tail()"
   ]
  },
  {
   "cell_type": "markdown",
   "metadata": {},
   "source": [
    "### Train test split"
   ]
  },
  {
   "cell_type": "code",
   "execution_count": 516,
   "metadata": {},
   "outputs": [],
   "source": [
    "train_end_date = '2023-12-29'\n",
    "train_end_idx = dataframe.index[dataframe['DCP']==train_end_date].values[0]\n",
    "train_end_new_idx = train_end_idx-int(model_case_version_main_target_code)\n",
    "train_new_end_date=dataframe.loc[train_end_new_idx,'DCP']"
   ]
  },
  {
   "cell_type": "code",
   "execution_count": 517,
   "metadata": {},
   "outputs": [],
   "source": [
    "dataframe.set_index('DCP', inplace=True)"
   ]
  },
  {
   "cell_type": "code",
   "execution_count": 518,
   "metadata": {},
   "outputs": [],
   "source": [
    "train = dataframe.loc[:train_new_end_date]\n",
    "test = dataframe.loc[train_new_end_date:].drop(train_new_end_date)"
   ]
  },
  {
   "cell_type": "code",
   "execution_count": 519,
   "metadata": {},
   "outputs": [],
   "source": [
    "train.reset_index(inplace=True)"
   ]
  },
  {
   "cell_type": "code",
   "execution_count": 520,
   "metadata": {},
   "outputs": [],
   "source": [
    "features = ['DNCP','OPCP','HPCP','LPCP','CPCP','ACPCP']\n",
    "features_and_targets = features + targets"
   ]
  },
  {
   "cell_type": "code",
   "execution_count": 521,
   "metadata": {},
   "outputs": [
    {
     "data": {
      "text/plain": [
       "'\\nvalues = json.dumps(train[features].values.tolist())\\nindex = json.dumps(train.index.to_list())\\ncolumns = json.dumps(features)\\n\\nftp_response_train = execute_FTP(values=values,index=index,columns=columns).json()\\n'"
      ]
     },
     "execution_count": 521,
     "metadata": {},
     "output_type": "execute_result"
    }
   ],
   "source": [
    "'''\n",
    "values = json.dumps(train[features].values.tolist())\n",
    "index = json.dumps(train.index.to_list())\n",
    "columns = json.dumps(features)\n",
    "\n",
    "ftp_response_train = execute_FTP(values=values,index=index,columns=columns).json()\n",
    "'''"
   ]
  },
  {
   "cell_type": "code",
   "execution_count": 522,
   "metadata": {},
   "outputs": [],
   "source": [
    "train_robust_scaler_features= RobustScaler().fit(train[features].values)\n",
    "train_robust_scaler_target=RobustScaler().fit(train[targets].values)"
   ]
  },
  {
   "cell_type": "code",
   "execution_count": 523,
   "metadata": {},
   "outputs": [
    {
     "name": "stderr",
     "output_type": "stream",
     "text": [
      "/tmp/ipykernel_1911/2842256068.py:1: SettingWithCopyWarning: \n",
      "A value is trying to be set on a copy of a slice from a DataFrame.\n",
      "Try using .loc[row_indexer,col_indexer] = value instead\n",
      "\n",
      "See the caveats in the documentation: https://pandas.pydata.org/pandas-docs/stable/user_guide/indexing.html#returning-a-view-versus-a-copy\n",
      "  train[features] = train_robust_scaler_features.transform(train[features].values)\n",
      "/tmp/ipykernel_1911/2842256068.py:2: SettingWithCopyWarning: \n",
      "A value is trying to be set on a copy of a slice from a DataFrame.\n",
      "Try using .loc[row_indexer,col_indexer] = value instead\n",
      "\n",
      "See the caveats in the documentation: https://pandas.pydata.org/pandas-docs/stable/user_guide/indexing.html#returning-a-view-versus-a-copy\n",
      "  train[targets] = train_robust_scaler_target.transform(train[targets].values)\n"
     ]
    }
   ],
   "source": [
    "train[features] = train_robust_scaler_features.transform(train[features].values)\n",
    "train[targets] = train_robust_scaler_target.transform(train[targets].values)"
   ]
  },
  {
   "cell_type": "markdown",
   "metadata": {},
   "source": [
    "### Training"
   ]
  },
  {
   "cell_type": "code",
   "execution_count": 524,
   "metadata": {},
   "outputs": [],
   "source": [
    "X_train = train[features].to_numpy(\"float64\")\n",
    "y_train = train[targets].to_numpy(\"float64\")\n",
    "# create sequental data\n",
    "X_train, y_train = building_data_sequences(X_train, y_train, timesteps)"
   ]
  },
  {
   "cell_type": "code",
   "execution_count": 525,
   "metadata": {},
   "outputs": [],
   "source": [
    "input_shape = ((X_train).shape[1], (X_train).shape[2])\n",
    "output_shape = y_train[0].shape[1]\n",
    "optimizer = Adam(learning_rate=0.005)\n",
    "model = compile_model(\n",
    "    input_shape,\n",
    "    1,\n",
    "    model_case_version_main_target_code,\n",
    "    optimizer,\n",
    "    1,\n",
    "    output_shape\n",
    ")"
   ]
  },
  {
   "cell_type": "code",
   "execution_count": 526,
   "metadata": {},
   "outputs": [
    {
     "name": "stdout",
     "output_type": "stream",
     "text": [
      "Epoch 1/5\n"
     ]
    },
    {
     "name": "stdout",
     "output_type": "stream",
     "text": [
      "95/95 - 29s - loss: 0.2911 - 29s/epoch - 304ms/step\n",
      "Epoch 2/5\n",
      "95/95 - 23s - loss: 0.0126 - 23s/epoch - 247ms/step\n",
      "Epoch 3/5\n",
      "95/95 - 23s - loss: 0.0127 - 23s/epoch - 247ms/step\n",
      "Epoch 4/5\n",
      "95/95 - 24s - loss: 0.0055 - 24s/epoch - 248ms/step\n",
      "Epoch 5/5\n",
      "95/95 - 24s - loss: 0.0024 - 24s/epoch - 248ms/step\n"
     ]
    }
   ],
   "source": [
    "history = model.fit(\n",
    "    X_train,\n",
    "    y_train,\n",
    "    batch_size=64,\n",
    "    epochs=5,\n",
    "    verbose=2\n",
    ")"
   ]
  },
  {
   "cell_type": "code",
   "execution_count": 538,
   "metadata": {},
   "outputs": [
    {
     "name": "stdout",
     "output_type": "stream",
     "text": [
      "189/189 [==============================] - 7s 39ms/step\n"
     ]
    }
   ],
   "source": [
    "train_predictions = model.predict(X_train)"
   ]
  },
  {
   "cell_type": "code",
   "execution_count": 539,
   "metadata": {},
   "outputs": [],
   "source": [
    "train_predictions = train_robust_scaler_target.inverse_transform(train_predictions)"
   ]
  },
  {
   "cell_type": "code",
   "execution_count": 540,
   "metadata": {},
   "outputs": [
    {
     "data": {
      "text/plain": [
       "(6018, 18)"
      ]
     },
     "execution_count": 540,
     "metadata": {},
     "output_type": "execute_result"
    }
   ],
   "source": [
    "train_predictions.shape"
   ]
  },
  {
   "cell_type": "code",
   "execution_count": 541,
   "metadata": {},
   "outputs": [
    {
     "data": {
      "text/plain": [
       "array([[ 51.247337,  50.56874 ,  51.627842, ...,  50.79513 ,  54.046055,\n",
       "         52.447533],\n",
       "       [ 50.53814 ,  49.868767,  51.007935, ...,  50.246887,  53.240875,\n",
       "         51.80748 ],\n",
       "       [ 49.97841 ,  49.189796,  50.364193, ...,  49.642445,  52.4612  ,\n",
       "         51.142128],\n",
       "       ...,\n",
       "       [364.49472 , 359.85052 , 367.9063  , ..., 367.2725  , 366.10437 ,\n",
       "        368.23523 ],\n",
       "       [364.86493 , 360.29388 , 368.29874 , ..., 367.6737  , 366.30838 ,\n",
       "        368.46173 ],\n",
       "       [365.07617 , 360.50153 , 368.50964 , ..., 367.87146 , 366.53903 ,\n",
       "        368.7513  ]], dtype=float32)"
      ]
     },
     "execution_count": 541,
     "metadata": {},
     "output_type": "execute_result"
    }
   ],
   "source": [
    "train_predictions"
   ]
  },
  {
   "cell_type": "code",
   "execution_count": 536,
   "metadata": {},
   "outputs": [],
   "source": [
    "train_prediction = [a[:1] for a in train_predictions]\n",
    "train_prediction = np.concatenate(train_prediction)"
   ]
  },
  {
   "cell_type": "code",
   "execution_count": 537,
   "metadata": {},
   "outputs": [
    {
     "data": {
      "text/plain": [
       "array([ 51.247337,  50.53814 ,  49.97841 , ..., 364.49472 , 364.86493 ,\n",
       "       365.07617 ], dtype=float32)"
      ]
     },
     "execution_count": 537,
     "metadata": {},
     "output_type": "execute_result"
    }
   ],
   "source": [
    "train_prediction"
   ]
  },
  {
   "cell_type": "code",
   "execution_count": null,
   "metadata": {},
   "outputs": [],
   "source": []
  }
 ],
 "metadata": {
  "kernelspec": {
   "display_name": "Python 3",
   "language": "python",
   "name": "python3"
  },
  "language_info": {
   "codemirror_mode": {
    "name": "ipython",
    "version": 3
   },
   "file_extension": ".py",
   "mimetype": "text/x-python",
   "name": "python",
   "nbconvert_exporter": "python",
   "pygments_lexer": "ipython3",
   "version": "3.10.12"
  }
 },
 "nbformat": 4,
 "nbformat_minor": 2
}
