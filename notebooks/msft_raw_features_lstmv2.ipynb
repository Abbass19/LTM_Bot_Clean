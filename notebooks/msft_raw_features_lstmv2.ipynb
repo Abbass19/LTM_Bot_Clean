{
  "cells": [
    {
      "cell_type": "code",
      "execution_count": 14,
      "metadata": {
        "id": "RxfkNCBDJ_4s"
      },
      "outputs": [],
      "source": [
        "import os\n",
        "import warnings\n",
        "from pathlib import Path\n",
        "\n",
        "import numpy as np\n",
        "import pandas as pd\n",
        "import matplotlib.pyplot as plt\n",
        "import seaborn as sns\n",
        "\n",
        "from sklearn.preprocessing import MinMaxScaler\n",
        "from sklearn.metrics import mean_squared_error\n",
        "from keras.models import Sequential\n",
        "from keras.layers import LSTM,Dense\n",
        "from keras.backend import clear_session\n",
        "import tensorflow as tf\n",
        "\n",
        "warnings.simplefilter('ignore')\n",
        "plt.style.use('fivethirtyeight')\n",
        "\n",
        "def create_dataset(dataset,look_back=1):\n",
        "    X,y = [],[]\n",
        "    for i in range(len(dataset) - look_back):\n",
        "        features = dataset[i:(i+look_back),0]\n",
        "        target = dataset[i+look_back,0]\n",
        "        X.append(features)\n",
        "        y.append(target)\n",
        "\n",
        "    return np.array(X), np.array(y)"
      ]
    },
    {
      "cell_type": "markdown",
      "metadata": {
        "id": "dqo7gD7nKPJb"
      },
      "source": [
        "#### Read Data"
      ]
    },
    {
      "cell_type": "code",
      "execution_count": 15,
      "metadata": {
        "colab": {
          "base_uri": "https://localhost:8080/",
          "height": 237
        },
        "id": "W5j9UOpNKHf1",
        "outputId": "417b07bb-af62-4faf-de6f-0fd52f03a2c3"
      },
      "outputs": [
        {
          "data": {
            "text/html": [
              "<div>\n",
              "<style scoped>\n",
              "    .dataframe tbody tr th:only-of-type {\n",
              "        vertical-align: middle;\n",
              "    }\n",
              "\n",
              "    .dataframe tbody tr th {\n",
              "        vertical-align: top;\n",
              "    }\n",
              "\n",
              "    .dataframe thead th {\n",
              "        text-align: right;\n",
              "    }\n",
              "</style>\n",
              "<table border=\"1\" class=\"dataframe\">\n",
              "  <thead>\n",
              "    <tr style=\"text-align: right;\">\n",
              "      <th></th>\n",
              "      <th>MPN5P</th>\n",
              "    </tr>\n",
              "    <tr>\n",
              "      <th>DATE</th>\n",
              "      <th></th>\n",
              "    </tr>\n",
              "  </thead>\n",
              "  <tbody>\n",
              "    <tr>\n",
              "      <th>2000-02-29</th>\n",
              "      <td>46.765625</td>\n",
              "    </tr>\n",
              "    <tr>\n",
              "      <th>2000-03-01</th>\n",
              "      <td>47.070312</td>\n",
              "    </tr>\n",
              "    <tr>\n",
              "      <th>2000-03-02</th>\n",
              "      <td>47.656250</td>\n",
              "    </tr>\n",
              "    <tr>\n",
              "      <th>2000-03-03</th>\n",
              "      <td>48.000000</td>\n",
              "    </tr>\n",
              "    <tr>\n",
              "      <th>2000-03-06</th>\n",
              "      <td>48.750000</td>\n",
              "    </tr>\n",
              "  </tbody>\n",
              "</table>\n",
              "</div>"
            ],
            "text/plain": [
              "                MPN5P\n",
              "DATE                 \n",
              "2000-02-29  46.765625\n",
              "2000-03-01  47.070312\n",
              "2000-03-02  47.656250\n",
              "2000-03-03  48.000000\n",
              "2000-03-06  48.750000"
            ]
          },
          "execution_count": 15,
          "metadata": {},
          "output_type": "execute_result"
        }
      ],
      "source": [
        "data_dir = Path('../data')\n",
        "\n",
        "df = pd.read_csv(\n",
        "    data_dir / 'SPP_MSFT.csv',\n",
        "    usecols=['DNCP','MPN5P']\n",
        ")\n",
        "\n",
        "df['DATE'] = pd.to_datetime(df['DNCP'], origin='1899-12-30', unit='D')\n",
        "df = df.drop('DNCP',axis=1)\n",
        "df = df.set_index('DATE')\n",
        "\n",
        "df.head()"
      ]
    },
    {
      "cell_type": "markdown",
      "metadata": {
        "id": "BhaJJP9sK59K"
      },
      "source": [
        "#### Prepare the Dataset for LSTM"
      ]
    },
    {
      "cell_type": "code",
      "execution_count": 16,
      "metadata": {
        "colab": {
          "base_uri": "https://localhost:8080/"
        },
        "id": "DUk8H8j3KH-j",
        "outputId": "8dfb6033-c428-4606-949d-2422e5d86b35"
      },
      "outputs": [
        {
          "name": "stdout",
          "output_type": "stream",
          "text": [
            "(3877, 60, 1) (1880, 60, 1)\n",
            "(3877,) (1880,)\n"
          ]
        }
      ],
      "source": [
        "dataset = df.values\n",
        "dataset = dataset.astype('float32')\n",
        "\n",
        "#normalize\n",
        "scaler = MinMaxScaler(feature_range=(0,1))\n",
        "dataset = scaler.fit_transform(dataset)\n",
        "\n",
        "# train test split\n",
        "train_size = int(len(dataset) * 0.67)\n",
        "test_size = len(dataset) - train_size\n",
        "train,test = dataset[0:train_size,:], dataset[train_size:len(dataset),:]\n",
        "\n",
        "# create windowed train test sets\n",
        "look_back = 60\n",
        "X_train, y_train = create_dataset(train, look_back=look_back)\n",
        "X_test, y_test = create_dataset(test, look_back=look_back)\n",
        "\n",
        "#reshape\n",
        "X_train = np.reshape(X_train, (X_train.shape[0], X_train.shape[1], 1))\n",
        "X_test = np.reshape(X_test, (X_test.shape[0], X_test.shape[1], 1))\n",
        "\n",
        "print(X_train.shape, X_test.shape)\n",
        "print(y_train.shape,y_test.shape)"
      ]
    },
    {
      "cell_type": "markdown",
      "metadata": {
        "id": "WWcY-V20LQ9Z"
      },
      "source": [
        "#### Define the Model"
      ]
    },
    {
      "cell_type": "code",
      "execution_count": 16,
      "metadata": {
        "colab": {
          "base_uri": "https://localhost:8080/"
        },
        "id": "0ESG1ywdKwsT",
        "outputId": "7acd7735-6251-4727-b9dd-e4702c1b2590"
      },
      "outputs": [
        {
          "name": "stdout",
          "output_type": "stream",
          "text": [
            "Model: \"sequential\"\n",
            "_________________________________________________________________\n",
            " Layer (type)                Output Shape              Param #   \n",
            "=================================================================\n",
            " lstm (LSTM)                 (None, 60, 64)            16896     \n",
            "                                                                 \n",
            " lstm_1 (LSTM)               (None, 64)                33024     \n",
            "                                                                 \n",
            " dense (Dense)               (None, 30)                1950      \n",
            "                                                                 \n",
            " dense_1 (Dense)             (None, 10)                310       \n",
            "                                                                 \n",
            " dense_2 (Dense)             (None, 1)                 11        \n",
            "                                                                 \n",
            "=================================================================\n",
            "Total params: 52,191\n",
            "Trainable params: 52,191\n",
            "Non-trainable params: 0\n",
            "_________________________________________________________________\n"
          ]
        }
      ],
      "source": [
        "model = Sequential([\n",
        "    LSTM(64, return_sequences=True,input_shape=(X_train.shape[1],1)),\n",
        "    LSTM(64),\n",
        "    Dense(30, activation=\"relu\"),\n",
        "    Dense(10, activation=\"relu\"),\n",
        "    Dense(1),\n",
        "])\n",
        "\n",
        "model.summary()"
      ]
    },
    {
      "cell_type": "code",
      "execution_count": 9,
      "metadata": {
        "id": "LrIUEcFENZsV"
      },
      "outputs": [],
      "source": [
        "# get inital weights\n",
        "init_weights = model.get_weights()"
      ]
    },
    {
      "cell_type": "code",
      "execution_count": 17,
      "metadata": {
        "colab": {
          "base_uri": "https://localhost:8080/"
        },
        "id": "qiMwPghrNsCG",
        "outputId": "a4a64bb9-1537-43b0-b2ad-28f2bfe9f430"
      },
      "outputs": [
        {
          "name": "stdout",
          "output_type": "stream",
          "text": [
            "Epoch 1/100\n",
            "122/122 - 8s - loss: 0.0013 - lr: 1.0000e-08 - 8s/epoch - 67ms/step\n",
            "Epoch 2/100\n",
            "122/122 - 1s - loss: 0.0013 - lr: 1.1220e-08 - 756ms/epoch - 6ms/step\n",
            "Epoch 3/100\n",
            "122/122 - 1s - loss: 0.0013 - lr: 1.2589e-08 - 710ms/epoch - 6ms/step\n",
            "Epoch 4/100\n",
            "122/122 - 1s - loss: 0.0013 - lr: 1.4125e-08 - 711ms/epoch - 6ms/step\n",
            "Epoch 5/100\n",
            "122/122 - 1s - loss: 0.0013 - lr: 1.5849e-08 - 706ms/epoch - 6ms/step\n",
            "Epoch 6/100\n",
            "122/122 - 1s - loss: 0.0013 - lr: 1.7783e-08 - 708ms/epoch - 6ms/step\n",
            "Epoch 7/100\n",
            "122/122 - 1s - loss: 0.0013 - lr: 1.9953e-08 - 706ms/epoch - 6ms/step\n",
            "Epoch 8/100\n",
            "122/122 - 1s - loss: 0.0013 - lr: 2.2387e-08 - 699ms/epoch - 6ms/step\n",
            "Epoch 9/100\n",
            "122/122 - 1s - loss: 0.0013 - lr: 2.5119e-08 - 702ms/epoch - 6ms/step\n",
            "Epoch 10/100\n",
            "122/122 - 1s - loss: 0.0013 - lr: 2.8184e-08 - 708ms/epoch - 6ms/step\n",
            "Epoch 11/100\n",
            "122/122 - 1s - loss: 0.0013 - lr: 3.1623e-08 - 722ms/epoch - 6ms/step\n",
            "Epoch 12/100\n",
            "122/122 - 1s - loss: 0.0013 - lr: 3.5481e-08 - 722ms/epoch - 6ms/step\n",
            "Epoch 13/100\n",
            "122/122 - 1s - loss: 0.0013 - lr: 3.9811e-08 - 707ms/epoch - 6ms/step\n",
            "Epoch 14/100\n",
            "122/122 - 1s - loss: 0.0013 - lr: 4.4668e-08 - 704ms/epoch - 6ms/step\n",
            "Epoch 15/100\n",
            "122/122 - 1s - loss: 0.0013 - lr: 5.0119e-08 - 694ms/epoch - 6ms/step\n",
            "Epoch 16/100\n",
            "122/122 - 1s - loss: 0.0013 - lr: 5.6234e-08 - 695ms/epoch - 6ms/step\n",
            "Epoch 17/100\n",
            "122/122 - 1s - loss: 0.0013 - lr: 6.3096e-08 - 746ms/epoch - 6ms/step\n",
            "Epoch 18/100\n",
            "122/122 - 1s - loss: 0.0013 - lr: 7.0795e-08 - 758ms/epoch - 6ms/step\n",
            "Epoch 19/100\n",
            "122/122 - 1s - loss: 0.0012 - lr: 7.9433e-08 - 705ms/epoch - 6ms/step\n",
            "Epoch 20/100\n",
            "122/122 - 1s - loss: 0.0012 - lr: 8.9125e-08 - 722ms/epoch - 6ms/step\n",
            "Epoch 21/100\n",
            "122/122 - 1s - loss: 0.0012 - lr: 1.0000e-07 - 710ms/epoch - 6ms/step\n",
            "Epoch 22/100\n",
            "122/122 - 1s - loss: 0.0012 - lr: 1.1220e-07 - 711ms/epoch - 6ms/step\n",
            "Epoch 23/100\n",
            "122/122 - 1s - loss: 0.0012 - lr: 1.2589e-07 - 702ms/epoch - 6ms/step\n",
            "Epoch 24/100\n",
            "122/122 - 1s - loss: 0.0012 - lr: 1.4125e-07 - 700ms/epoch - 6ms/step\n",
            "Epoch 25/100\n",
            "122/122 - 1s - loss: 0.0012 - lr: 1.5849e-07 - 717ms/epoch - 6ms/step\n",
            "Epoch 26/100\n",
            "122/122 - 1s - loss: 0.0012 - lr: 1.7783e-07 - 699ms/epoch - 6ms/step\n",
            "Epoch 27/100\n",
            "122/122 - 1s - loss: 0.0012 - lr: 1.9953e-07 - 696ms/epoch - 6ms/step\n",
            "Epoch 28/100\n",
            "122/122 - 1s - loss: 0.0012 - lr: 2.2387e-07 - 703ms/epoch - 6ms/step\n",
            "Epoch 29/100\n",
            "122/122 - 1s - loss: 0.0012 - lr: 2.5119e-07 - 705ms/epoch - 6ms/step\n",
            "Epoch 30/100\n",
            "122/122 - 1s - loss: 0.0012 - lr: 2.8184e-07 - 702ms/epoch - 6ms/step\n",
            "Epoch 31/100\n",
            "122/122 - 1s - loss: 0.0012 - lr: 3.1623e-07 - 706ms/epoch - 6ms/step\n",
            "Epoch 32/100\n",
            "122/122 - 1s - loss: 0.0012 - lr: 3.5481e-07 - 718ms/epoch - 6ms/step\n",
            "Epoch 33/100\n",
            "122/122 - 1s - loss: 0.0012 - lr: 3.9811e-07 - 744ms/epoch - 6ms/step\n",
            "Epoch 34/100\n",
            "122/122 - 1s - loss: 0.0012 - lr: 4.4668e-07 - 753ms/epoch - 6ms/step\n",
            "Epoch 35/100\n",
            "122/122 - 1s - loss: 0.0012 - lr: 5.0119e-07 - 708ms/epoch - 6ms/step\n",
            "Epoch 36/100\n",
            "122/122 - 1s - loss: 0.0012 - lr: 5.6234e-07 - 699ms/epoch - 6ms/step\n",
            "Epoch 37/100\n",
            "122/122 - 1s - loss: 0.0012 - lr: 6.3096e-07 - 704ms/epoch - 6ms/step\n",
            "Epoch 38/100\n",
            "122/122 - 1s - loss: 0.0012 - lr: 7.0795e-07 - 702ms/epoch - 6ms/step\n",
            "Epoch 39/100\n",
            "122/122 - 1s - loss: 0.0012 - lr: 7.9433e-07 - 701ms/epoch - 6ms/step\n",
            "Epoch 40/100\n",
            "122/122 - 1s - loss: 0.0012 - lr: 8.9125e-07 - 697ms/epoch - 6ms/step\n",
            "Epoch 41/100\n",
            "122/122 - 1s - loss: 0.0012 - lr: 1.0000e-06 - 714ms/epoch - 6ms/step\n",
            "Epoch 42/100\n",
            "122/122 - 1s - loss: 0.0012 - lr: 1.1220e-06 - 712ms/epoch - 6ms/step\n",
            "Epoch 43/100\n",
            "122/122 - 1s - loss: 0.0012 - lr: 1.2589e-06 - 698ms/epoch - 6ms/step\n",
            "Epoch 44/100\n",
            "122/122 - 1s - loss: 0.0012 - lr: 1.4125e-06 - 698ms/epoch - 6ms/step\n",
            "Epoch 45/100\n",
            "122/122 - 1s - loss: 0.0012 - lr: 1.5849e-06 - 708ms/epoch - 6ms/step\n",
            "Epoch 46/100\n",
            "122/122 - 1s - loss: 0.0012 - lr: 1.7783e-06 - 710ms/epoch - 6ms/step\n",
            "Epoch 47/100\n",
            "122/122 - 1s - loss: 0.0011 - lr: 1.9953e-06 - 702ms/epoch - 6ms/step\n",
            "Epoch 48/100\n",
            "122/122 - 1s - loss: 0.0011 - lr: 2.2387e-06 - 696ms/epoch - 6ms/step\n",
            "Epoch 49/100\n",
            "122/122 - 1s - loss: 0.0011 - lr: 2.5119e-06 - 735ms/epoch - 6ms/step\n",
            "Epoch 50/100\n",
            "122/122 - 1s - loss: 0.0011 - lr: 2.8184e-06 - 741ms/epoch - 6ms/step\n",
            "Epoch 51/100\n",
            "122/122 - 1s - loss: 0.0011 - lr: 3.1623e-06 - 722ms/epoch - 6ms/step\n",
            "Epoch 52/100\n",
            "122/122 - 1s - loss: 0.0011 - lr: 3.5481e-06 - 703ms/epoch - 6ms/step\n",
            "Epoch 53/100\n",
            "122/122 - 1s - loss: 0.0011 - lr: 3.9811e-06 - 706ms/epoch - 6ms/step\n",
            "Epoch 54/100\n",
            "122/122 - 1s - loss: 0.0011 - lr: 4.4668e-06 - 710ms/epoch - 6ms/step\n",
            "Epoch 55/100\n",
            "122/122 - 1s - loss: 0.0011 - lr: 5.0119e-06 - 708ms/epoch - 6ms/step\n",
            "Epoch 56/100\n",
            "122/122 - 1s - loss: 0.0010 - lr: 5.6234e-06 - 707ms/epoch - 6ms/step\n",
            "Epoch 57/100\n",
            "122/122 - 1s - loss: 0.0010 - lr: 6.3096e-06 - 701ms/epoch - 6ms/step\n",
            "Epoch 58/100\n",
            "122/122 - 1s - loss: 9.7926e-04 - lr: 7.0795e-06 - 694ms/epoch - 6ms/step\n",
            "Epoch 59/100\n",
            "122/122 - 1s - loss: 9.3862e-04 - lr: 7.9433e-06 - 703ms/epoch - 6ms/step\n",
            "Epoch 60/100\n",
            "122/122 - 1s - loss: 8.9117e-04 - lr: 8.9125e-06 - 713ms/epoch - 6ms/step\n",
            "Epoch 61/100\n",
            "122/122 - 1s - loss: 8.3880e-04 - lr: 1.0000e-05 - 715ms/epoch - 6ms/step\n",
            "Epoch 62/100\n",
            "122/122 - 1s - loss: 7.8546e-04 - lr: 1.1220e-05 - 717ms/epoch - 6ms/step\n",
            "Epoch 63/100\n",
            "122/122 - 1s - loss: 7.3216e-04 - lr: 1.2589e-05 - 710ms/epoch - 6ms/step\n",
            "Epoch 64/100\n",
            "122/122 - 1s - loss: 6.7949e-04 - lr: 1.4125e-05 - 703ms/epoch - 6ms/step\n",
            "Epoch 65/100\n",
            "122/122 - 1s - loss: 6.2721e-04 - lr: 1.5849e-05 - 726ms/epoch - 6ms/step\n",
            "Epoch 66/100\n",
            "122/122 - 1s - loss: 5.7541e-04 - lr: 1.7783e-05 - 760ms/epoch - 6ms/step\n",
            "Epoch 67/100\n",
            "122/122 - 1s - loss: 5.2410e-04 - lr: 1.9953e-05 - 747ms/epoch - 6ms/step\n",
            "Epoch 68/100\n",
            "122/122 - 1s - loss: 4.7444e-04 - lr: 2.2387e-05 - 699ms/epoch - 6ms/step\n",
            "Epoch 69/100\n",
            "122/122 - 1s - loss: 4.2690e-04 - lr: 2.5119e-05 - 710ms/epoch - 6ms/step\n",
            "Epoch 70/100\n",
            "122/122 - 1s - loss: 3.8122e-04 - lr: 2.8184e-05 - 713ms/epoch - 6ms/step\n",
            "Epoch 71/100\n",
            "122/122 - 1s - loss: 3.3820e-04 - lr: 3.1623e-05 - 708ms/epoch - 6ms/step\n",
            "Epoch 72/100\n",
            "122/122 - 1s - loss: 3.0003e-04 - lr: 3.5481e-05 - 707ms/epoch - 6ms/step\n",
            "Epoch 73/100\n",
            "122/122 - 1s - loss: 2.6784e-04 - lr: 3.9811e-05 - 714ms/epoch - 6ms/step\n",
            "Epoch 74/100\n",
            "122/122 - 1s - loss: 2.4192e-04 - lr: 4.4668e-05 - 709ms/epoch - 6ms/step\n",
            "Epoch 75/100\n",
            "122/122 - 1s - loss: 2.2177e-04 - lr: 5.0119e-05 - 709ms/epoch - 6ms/step\n",
            "Epoch 76/100\n",
            "122/122 - 1s - loss: 2.0682e-04 - lr: 5.6234e-05 - 715ms/epoch - 6ms/step\n",
            "Epoch 77/100\n",
            "122/122 - 1s - loss: 1.9616e-04 - lr: 6.3096e-05 - 710ms/epoch - 6ms/step\n",
            "Epoch 78/100\n",
            "122/122 - 1s - loss: 1.8877e-04 - lr: 7.0795e-05 - 695ms/epoch - 6ms/step\n",
            "Epoch 79/100\n",
            "122/122 - 1s - loss: 1.8388e-04 - lr: 7.9433e-05 - 707ms/epoch - 6ms/step\n",
            "Epoch 80/100\n",
            "122/122 - 1s - loss: 1.8088e-04 - lr: 8.9125e-05 - 708ms/epoch - 6ms/step\n",
            "Epoch 81/100\n",
            "122/122 - 1s - loss: 1.7887e-04 - lr: 1.0000e-04 - 721ms/epoch - 6ms/step\n",
            "Epoch 82/100\n",
            "122/122 - 1s - loss: 1.7677e-04 - lr: 1.1220e-04 - 751ms/epoch - 6ms/step\n",
            "Epoch 83/100\n",
            "122/122 - 1s - loss: 1.7219e-04 - lr: 1.2589e-04 - 745ms/epoch - 6ms/step\n",
            "Epoch 84/100\n",
            "122/122 - 1s - loss: 1.6905e-04 - lr: 1.4125e-04 - 713ms/epoch - 6ms/step\n",
            "Epoch 85/100\n",
            "122/122 - 1s - loss: 1.6739e-04 - lr: 1.5849e-04 - 702ms/epoch - 6ms/step\n",
            "Epoch 86/100\n",
            "122/122 - 1s - loss: 1.6651e-04 - lr: 1.7783e-04 - 696ms/epoch - 6ms/step\n",
            "Epoch 87/100\n",
            "122/122 - 1s - loss: 1.6593e-04 - lr: 1.9953e-04 - 701ms/epoch - 6ms/step\n",
            "Epoch 88/100\n",
            "122/122 - 1s - loss: 1.6543e-04 - lr: 2.2387e-04 - 699ms/epoch - 6ms/step\n",
            "Epoch 89/100\n",
            "122/122 - 1s - loss: 1.6496e-04 - lr: 2.5119e-04 - 696ms/epoch - 6ms/step\n",
            "Epoch 90/100\n",
            "122/122 - 1s - loss: 1.6460e-04 - lr: 2.8184e-04 - 703ms/epoch - 6ms/step\n",
            "Epoch 91/100\n",
            "122/122 - 1s - loss: 1.6429e-04 - lr: 3.1623e-04 - 705ms/epoch - 6ms/step\n",
            "Epoch 92/100\n",
            "122/122 - 1s - loss: 1.6398e-04 - lr: 3.5481e-04 - 700ms/epoch - 6ms/step\n",
            "Epoch 93/100\n",
            "122/122 - 1s - loss: 1.6360e-04 - lr: 3.9811e-04 - 700ms/epoch - 6ms/step\n",
            "Epoch 94/100\n",
            "122/122 - 1s - loss: 1.6270e-04 - lr: 4.4668e-04 - 698ms/epoch - 6ms/step\n",
            "Epoch 95/100\n",
            "122/122 - 1s - loss: 1.6044e-04 - lr: 5.0119e-04 - 703ms/epoch - 6ms/step\n",
            "Epoch 96/100\n",
            "122/122 - 1s - loss: 1.5388e-04 - lr: 5.6234e-04 - 701ms/epoch - 6ms/step\n",
            "Epoch 97/100\n",
            "122/122 - 1s - loss: 1.4473e-04 - lr: 6.3096e-04 - 720ms/epoch - 6ms/step\n",
            "Epoch 98/100\n",
            "122/122 - 1s - loss: 1.3900e-04 - lr: 7.0795e-04 - 753ms/epoch - 6ms/step\n",
            "Epoch 99/100\n",
            "122/122 - 1s - loss: 1.3608e-04 - lr: 7.9433e-04 - 760ms/epoch - 6ms/step\n",
            "Epoch 100/100\n",
            "122/122 - 1s - loss: 1.3443e-04 - lr: 8.9125e-04 - 698ms/epoch - 6ms/step\n"
          ]
        }
      ],
      "source": [
        "from keras.callbacks import LearningRateScheduler\n",
        "from keras.optimizers import SGD\n",
        "from keras.losses import Huber\n",
        "\n",
        "lr_schedule = LearningRateScheduler(lambda epoch: 1e-8 * 10**(epoch / 20))\n",
        "\n",
        "optimizer = SGD(momentum=0.9)\n",
        "model.compile(loss=Huber(), optimizer=optimizer)\n",
        "\n",
        "history = model.fit(\n",
        "    X_train,\n",
        "    y_train,\n",
        "    epochs=100,\n",
        "    callbacks=[lr_schedule],\n",
        "    verbose=2\n",
        ")"
      ]
    },
    {
      "cell_type": "code",
      "execution_count": 18,
      "metadata": {
        "colab": {
          "base_uri": "https://localhost:8080/",
          "height": 588
        },
        "id": "Mf3yuKahPFY4",
        "outputId": "b513d0ea-1437-47f0-fe8f-7dafa4931758"
      },
      "outputs": [
        {
          "data": {
            "text/plain": [
              "(0.0001, 0.001, 0.0, 0.02)"
            ]
          },
          "execution_count": 18,
          "metadata": {},
          "output_type": "execute_result"
        },
        {
          "data": {
            "image/png": "[encoded data removed]",
            "text/plain": [
              "<Figure size 1000x600 with 1 Axes>"
            ]
          },
          "metadata": {},
          "output_type": "display_data"
        }
      ],
      "source": [
        "# Define the learning rate array\n",
        "lrs = 1e-8 * (10 ** (np.arange(100) / 20))\n",
        "\n",
        "# Set the figure size\n",
        "plt.figure(figsize=(10, 6))\n",
        "\n",
        "# Set the grid\n",
        "plt.grid(True)\n",
        "\n",
        "# Plot the loss in log scale\n",
        "plt.semilogx(lrs, history.history[\"loss\"])\n",
        "\n",
        "# Increase the tickmarks size\n",
        "plt.tick_params('both', length=10, width=1, which='both')\n",
        "\n",
        "# Set the plot boundaries\n",
        "plt.axis([1e-4,1e-3,0,2e-2])"
      ]
    },
    {
      "cell_type": "code",
      "execution_count": 19,
      "metadata": {
        "colab": {
          "base_uri": "https://localhost:8080/"
        },
        "id": "zxjtBpiJRyiz",
        "outputId": "76e5248a-006b-433d-93de-2d06e0620597"
      },
      "outputs": [
        {
          "name": "stdout",
          "output_type": "stream",
          "text": [
            "0.00089125097\n"
          ]
        }
      ],
      "source": [
        "df_hist = pd.DataFrame(history.history)\n",
        "learning_rate = df_hist[df_hist['loss'] == df_hist['loss'].min()]['lr'].values[0]\n",
        "\n",
        "print(learning_rate)"
      ]
    },
    {
      "cell_type": "code",
      "execution_count": 20,
      "metadata": {
        "id": "V9BRzVpvS0Pn"
      },
      "outputs": [],
      "source": [
        "# Reset states generated by Keras\n",
        "tf.keras.backend.clear_session()\n",
        "\n",
        "# Reset the weights\n",
        "model.set_weights(init_weights)"
      ]
    },
    {
      "cell_type": "code",
      "execution_count": 21,
      "metadata": {
        "id": "LM469jHfVLpp"
      },
      "outputs": [],
      "source": [
        "from keras.metrics import RootMeanSquaredError\n",
        "\n",
        "# Set the optimizer\n",
        "optimizer = tf.keras.optimizers.SGD(learning_rate=learning_rate, momentum=0.9)\n",
        "\n",
        "# Set the training parameters\n",
        "model.compile(loss=tf.keras.losses.Huber(),\n",
        "              optimizer=optimizer,\n",
        "              metrics=[RootMeanSquaredError()])"
      ]
    },
    {
      "cell_type": "code",
      "execution_count": 22,
      "metadata": {
        "colab": {
          "base_uri": "https://localhost:8080/"
        },
        "id": "f0Bt7gPcXlbA",
        "outputId": "8be71cad-a955-4084-ac48-0b9609dd6066"
      },
      "outputs": [
        {
          "name": "stdout",
          "output_type": "stream",
          "text": [
            "Epoch 1/50\n",
            "3877/3877 - 32s - loss: 1.4734e-04 - root_mean_squared_error: 0.0172 - val_loss: 0.1443 - val_root_mean_squared_error: 0.5372 - 32s/epoch - 8ms/step\n",
            "Epoch 2/50\n",
            "3877/3877 - 27s - loss: 1.2981e-04 - root_mean_squared_error: 0.0161 - val_loss: 0.1454 - val_root_mean_squared_error: 0.5393 - 27s/epoch - 7ms/step\n",
            "Epoch 3/50\n",
            "3877/3877 - 28s - loss: 1.2216e-04 - root_mean_squared_error: 0.0156 - val_loss: 0.1456 - val_root_mean_squared_error: 0.5397 - 28s/epoch - 7ms/step\n",
            "Epoch 4/50\n",
            "3877/3877 - 27s - loss: 1.1367e-04 - root_mean_squared_error: 0.0151 - val_loss: 0.1465 - val_root_mean_squared_error: 0.5413 - 27s/epoch - 7ms/step\n",
            "Epoch 5/50\n",
            "3877/3877 - 27s - loss: 1.0659e-04 - root_mean_squared_error: 0.0146 - val_loss: 0.1463 - val_root_mean_squared_error: 0.5409 - 27s/epoch - 7ms/step\n",
            "Epoch 6/50\n",
            "3877/3877 - 27s - loss: 9.9363e-05 - root_mean_squared_error: 0.0141 - val_loss: 0.1479 - val_root_mean_squared_error: 0.5439 - 27s/epoch - 7ms/step\n",
            "Epoch 7/50\n",
            "3877/3877 - 27s - loss: 9.1427e-05 - root_mean_squared_error: 0.0135 - val_loss: 0.1482 - val_root_mean_squared_error: 0.5445 - 27s/epoch - 7ms/step\n",
            "Epoch 8/50\n",
            "3877/3877 - 27s - loss: 8.3626e-05 - root_mean_squared_error: 0.0129 - val_loss: 0.1496 - val_root_mean_squared_error: 0.5470 - 27s/epoch - 7ms/step\n",
            "Epoch 9/50\n",
            "3877/3877 - 27s - loss: 7.5630e-05 - root_mean_squared_error: 0.0123 - val_loss: 0.1504 - val_root_mean_squared_error: 0.5485 - 27s/epoch - 7ms/step\n",
            "Epoch 10/50\n",
            "3877/3877 - 27s - loss: 6.6084e-05 - root_mean_squared_error: 0.0115 - val_loss: 0.1503 - val_root_mean_squared_error: 0.5484 - 27s/epoch - 7ms/step\n",
            "Epoch 11/50\n",
            "3877/3877 - 27s - loss: 5.7692e-05 - root_mean_squared_error: 0.0107 - val_loss: 0.1509 - val_root_mean_squared_error: 0.5495 - 27s/epoch - 7ms/step\n",
            "Epoch 12/50\n",
            "3877/3877 - 27s - loss: 4.8955e-05 - root_mean_squared_error: 0.0099 - val_loss: 0.1514 - val_root_mean_squared_error: 0.5504 - 27s/epoch - 7ms/step\n",
            "Epoch 13/50\n",
            "3877/3877 - 28s - loss: 4.1332e-05 - root_mean_squared_error: 0.0091 - val_loss: 0.1514 - val_root_mean_squared_error: 0.5504 - 28s/epoch - 7ms/step\n",
            "Epoch 14/50\n",
            "3877/3877 - 27s - loss: 3.4342e-05 - root_mean_squared_error: 0.0083 - val_loss: 0.1522 - val_root_mean_squared_error: 0.5518 - 27s/epoch - 7ms/step\n",
            "Epoch 15/50\n",
            "3877/3877 - 27s - loss: 2.8685e-05 - root_mean_squared_error: 0.0076 - val_loss: 0.1523 - val_root_mean_squared_error: 0.5520 - 27s/epoch - 7ms/step\n",
            "Epoch 16/50\n",
            "3877/3877 - 27s - loss: 2.3785e-05 - root_mean_squared_error: 0.0069 - val_loss: 0.1522 - val_root_mean_squared_error: 0.5519 - 27s/epoch - 7ms/step\n",
            "Epoch 17/50\n",
            "3877/3877 - 27s - loss: 2.0105e-05 - root_mean_squared_error: 0.0063 - val_loss: 0.1525 - val_root_mean_squared_error: 0.5524 - 27s/epoch - 7ms/step\n",
            "Epoch 18/50\n",
            "3877/3877 - 27s - loss: 1.7013e-05 - root_mean_squared_error: 0.0058 - val_loss: 0.1521 - val_root_mean_squared_error: 0.5516 - 27s/epoch - 7ms/step\n",
            "Epoch 19/50\n",
            "3877/3877 - 27s - loss: 1.4648e-05 - root_mean_squared_error: 0.0054 - val_loss: 0.1517 - val_root_mean_squared_error: 0.5508 - 27s/epoch - 7ms/step\n",
            "Epoch 20/50\n",
            "3877/3877 - 27s - loss: 1.3167e-05 - root_mean_squared_error: 0.0051 - val_loss: 0.1516 - val_root_mean_squared_error: 0.5508 - 27s/epoch - 7ms/step\n",
            "Epoch 21/50\n",
            "3877/3877 - 27s - loss: 1.2081e-05 - root_mean_squared_error: 0.0049 - val_loss: 0.1516 - val_root_mean_squared_error: 0.5507 - 27s/epoch - 7ms/step\n",
            "Epoch 22/50\n",
            "3877/3877 - 27s - loss: 1.1309e-05 - root_mean_squared_error: 0.0048 - val_loss: 0.1514 - val_root_mean_squared_error: 0.5504 - 27s/epoch - 7ms/step\n",
            "Epoch 23/50\n",
            "3877/3877 - 27s - loss: 1.0872e-05 - root_mean_squared_error: 0.0047 - val_loss: 0.1513 - val_root_mean_squared_error: 0.5502 - 27s/epoch - 7ms/step\n",
            "Epoch 24/50\n",
            "3877/3877 - 28s - loss: 1.0543e-05 - root_mean_squared_error: 0.0046 - val_loss: 0.1512 - val_root_mean_squared_error: 0.5500 - 28s/epoch - 7ms/step\n",
            "Epoch 25/50\n",
            "3877/3877 - 27s - loss: 1.0299e-05 - root_mean_squared_error: 0.0045 - val_loss: 0.1512 - val_root_mean_squared_error: 0.5500 - 27s/epoch - 7ms/step\n",
            "Epoch 26/50\n",
            "3877/3877 - 27s - loss: 1.0187e-05 - root_mean_squared_error: 0.0045 - val_loss: 0.1511 - val_root_mean_squared_error: 0.5499 - 27s/epoch - 7ms/step\n",
            "Epoch 27/50\n",
            "3877/3877 - 27s - loss: 1.0130e-05 - root_mean_squared_error: 0.0045 - val_loss: 0.1513 - val_root_mean_squared_error: 0.5501 - 27s/epoch - 7ms/step\n",
            "Epoch 28/50\n",
            "3877/3877 - 27s - loss: 9.9680e-06 - root_mean_squared_error: 0.0045 - val_loss: 0.1513 - val_root_mean_squared_error: 0.5502 - 27s/epoch - 7ms/step\n",
            "Epoch 29/50\n",
            "3877/3877 - 27s - loss: 9.9905e-06 - root_mean_squared_error: 0.0045 - val_loss: 0.1512 - val_root_mean_squared_error: 0.5500 - 27s/epoch - 7ms/step\n",
            "Epoch 30/50\n",
            "3877/3877 - 27s - loss: 9.8652e-06 - root_mean_squared_error: 0.0044 - val_loss: 0.1512 - val_root_mean_squared_error: 0.5500 - 27s/epoch - 7ms/step\n",
            "Epoch 31/50\n",
            "3877/3877 - 27s - loss: 9.8658e-06 - root_mean_squared_error: 0.0044 - val_loss: 0.1512 - val_root_mean_squared_error: 0.5500 - 27s/epoch - 7ms/step\n",
            "Epoch 32/50\n",
            "3877/3877 - 27s - loss: 9.8191e-06 - root_mean_squared_error: 0.0044 - val_loss: 0.1512 - val_root_mean_squared_error: 0.5500 - 27s/epoch - 7ms/step\n",
            "Epoch 33/50\n",
            "3877/3877 - 27s - loss: 9.7450e-06 - root_mean_squared_error: 0.0044 - val_loss: 0.1510 - val_root_mean_squared_error: 0.5497 - 27s/epoch - 7ms/step\n",
            "Epoch 34/50\n",
            "3877/3877 - 27s - loss: 9.8361e-06 - root_mean_squared_error: 0.0044 - val_loss: 0.1510 - val_root_mean_squared_error: 0.5496 - 27s/epoch - 7ms/step\n",
            "Epoch 35/50\n",
            "3877/3877 - 27s - loss: 9.8416e-06 - root_mean_squared_error: 0.0044 - val_loss: 0.1509 - val_root_mean_squared_error: 0.5494 - 27s/epoch - 7ms/step\n",
            "Epoch 36/50\n",
            "3877/3877 - 27s - loss: 9.7616e-06 - root_mean_squared_error: 0.0044 - val_loss: 0.1508 - val_root_mean_squared_error: 0.5493 - 27s/epoch - 7ms/step\n",
            "Epoch 37/50\n",
            "3877/3877 - 27s - loss: 9.6984e-06 - root_mean_squared_error: 0.0044 - val_loss: 0.1509 - val_root_mean_squared_error: 0.5495 - 27s/epoch - 7ms/step\n",
            "Epoch 38/50\n",
            "3877/3877 - 27s - loss: 9.7239e-06 - root_mean_squared_error: 0.0044 - val_loss: 0.1507 - val_root_mean_squared_error: 0.5491 - 27s/epoch - 7ms/step\n",
            "Epoch 39/50\n",
            "3877/3877 - 27s - loss: 9.7411e-06 - root_mean_squared_error: 0.0044 - val_loss: 0.1507 - val_root_mean_squared_error: 0.5491 - 27s/epoch - 7ms/step\n",
            "Epoch 40/50\n",
            "3877/3877 - 27s - loss: 9.7036e-06 - root_mean_squared_error: 0.0044 - val_loss: 0.1507 - val_root_mean_squared_error: 0.5491 - 27s/epoch - 7ms/step\n",
            "Epoch 41/50\n",
            "3877/3877 - 27s - loss: 9.7110e-06 - root_mean_squared_error: 0.0044 - val_loss: 0.1506 - val_root_mean_squared_error: 0.5490 - 27s/epoch - 7ms/step\n",
            "Epoch 42/50\n",
            "3877/3877 - 27s - loss: 9.6654e-06 - root_mean_squared_error: 0.0044 - val_loss: 0.1507 - val_root_mean_squared_error: 0.5490 - 27s/epoch - 7ms/step\n",
            "Epoch 43/50\n",
            "3877/3877 - 27s - loss: 9.6584e-06 - root_mean_squared_error: 0.0044 - val_loss: 0.1507 - val_root_mean_squared_error: 0.5490 - 27s/epoch - 7ms/step\n",
            "Epoch 44/50\n",
            "3877/3877 - 27s - loss: 9.6886e-06 - root_mean_squared_error: 0.0044 - val_loss: 0.1505 - val_root_mean_squared_error: 0.5488 - 27s/epoch - 7ms/step\n",
            "Epoch 45/50\n",
            "3877/3877 - 27s - loss: 9.7201e-06 - root_mean_squared_error: 0.0044 - val_loss: 0.1505 - val_root_mean_squared_error: 0.5487 - 27s/epoch - 7ms/step\n",
            "Epoch 46/50\n",
            "3877/3877 - 27s - loss: 9.7526e-06 - root_mean_squared_error: 0.0044 - val_loss: 0.1505 - val_root_mean_squared_error: 0.5486 - 27s/epoch - 7ms/step\n",
            "Epoch 47/50\n",
            "3877/3877 - 27s - loss: 9.6424e-06 - root_mean_squared_error: 0.0044 - val_loss: 0.1503 - val_root_mean_squared_error: 0.5484 - 27s/epoch - 7ms/step\n",
            "Epoch 48/50\n",
            "3877/3877 - 28s - loss: 9.6075e-06 - root_mean_squared_error: 0.0044 - val_loss: 0.1503 - val_root_mean_squared_error: 0.5483 - 28s/epoch - 7ms/step\n",
            "Epoch 49/50\n",
            "3877/3877 - 27s - loss: 9.7090e-06 - root_mean_squared_error: 0.0044 - val_loss: 0.1502 - val_root_mean_squared_error: 0.5481 - 27s/epoch - 7ms/step\n",
            "Epoch 50/50\n",
            "3877/3877 - 27s - loss: 9.6467e-06 - root_mean_squared_error: 0.0044 - val_loss: 0.1502 - val_root_mean_squared_error: 0.5481 - 27s/epoch - 7ms/step\n"
          ]
        }
      ],
      "source": [
        "history=model.fit(\n",
        "    x=X_train,\n",
        "    y=y_train,\n",
        "    batch_size=1,\n",
        "    verbose=2,\n",
        "    validation_data=(X_test,y_test),\n",
        "    epochs=50\n",
        ")"
      ]
    },
    {
      "cell_type": "code",
      "execution_count": 23,
      "metadata": {
        "id": "S4ffEyVBpR0l"
      },
      "outputs": [],
      "source": [
        "model.save('raw_features_lstmv2.h5')"
      ]
    },
    {
      "cell_type": "markdown",
      "metadata": {
        "id": "7bzwx_H91k8c"
      },
      "source": [
        "#### Load the Model"
      ]
    },
    {
      "cell_type": "code",
      "execution_count": 17,
      "metadata": {
        "id": "zI2uqtSq1kfE"
      },
      "outputs": [],
      "source": [
        "from keras.models import load_model\n",
        "model = load_model('../models/raw_features_lstmv2.h5')"
      ]
    },
    {
      "cell_type": "markdown",
      "metadata": {
        "id": "dAm220wV-az0"
      },
      "source": [
        "#### Evaluate the Model"
      ]
    },
    {
      "cell_type": "code",
      "execution_count": 18,
      "metadata": {
        "colab": {
          "base_uri": "https://localhost:8080/"
        },
        "id": "ZpxL38lIXlhj",
        "outputId": "d7ee43f7-db31-4bd0-be5e-a5a11bb79c4b"
      },
      "outputs": [
        {
          "name": "stdout",
          "output_type": "stream",
          "text": [
            "122/122 [==============================] - 4s 20ms/step\n",
            "59/59 [==============================] - 1s 20ms/step\n",
            "Train rmse: 1.1933075189590454\n",
            "Test rmse: 131.9678497314453\n"
          ]
        }
      ],
      "source": [
        "fitted = model.predict(X_train)\n",
        "preds = model.predict(X_test)\n",
        "\n",
        "y_train = scaler.inverse_transform(y_train.reshape(-1,1))\n",
        "y_test = scaler.inverse_transform(y_test.reshape(-1,1))\n",
        "fitted = scaler.inverse_transform(fitted)\n",
        "preds = scaler.inverse_transform(preds)\n",
        "\n",
        "train_rmse = np.sqrt(mean_squared_error(y_train,fitted))\n",
        "test_rmse = np.sqrt(mean_squared_error(y_test,preds))\n",
        "\n",
        "print(f'Train rmse: {train_rmse}')\n",
        "print(f'Test rmse: {test_rmse}')"
      ]
    },
    {
      "cell_type": "code",
      "execution_count": 19,
      "metadata": {
        "colab": {
          "base_uri": "https://localhost:8080/",
          "height": 611
        },
        "id": "Tu5S_gwM-8fC",
        "outputId": "d8f9b3eb-db03-43fd-83b2-8024bf676da1"
      },
      "outputs": [
        {
          "data": {
            "text/plain": [
              "<matplotlib.legend.Legend at 0x249eccc2890>"
            ]
          },
          "execution_count": 19,
          "metadata": {},
          "output_type": "execute_result"
        },
        {
          "data": {
            "image/png": "[encoded data removed]",
            "text/plain": [
              "<Figure size 1100x600 with 1 Axes>"
            ]
          },
          "metadata": {},
          "output_type": "display_data"
        }
      ],
      "source": [
        "plt.rc(\"figure\", autolayout=True, figsize=(11, 6))\n",
        "#plt.rc('lines', linewidth=2.5)\n",
        "\n",
        "y_train_series = pd.Series(y_train.flatten())\n",
        "y_test_series = pd.Series(y_test.flatten(), index=np.arange(len(y_train), (len(y_train) + len(y_test))))\n",
        "\n",
        "fitted_series = pd.Series(fitted.flatten(), index=y_train_series.index)\n",
        "preds_series = pd.Series(preds.flatten(), index=y_test_series.index)\n",
        "\n",
        "ax = y_train_series.plot(linewidth=3, label='Train')\n",
        "ax = y_test_series.plot(ax=ax, linewidth=3, label='Test')\n",
        "ax = fitted_series.plot(ax=ax, linewidth=2, label='Fitted')\n",
        "_ = preds_series.plot(ax=ax, linewidth=2, label='Forecasts')\n",
        "\n",
        "plt.title(f'Test RMSE: {mean_squared_error(y_test_series,preds_series,squared=False)}')\n",
        "\n",
        "plt.legend()"
      ]
    },
    {
      "cell_type": "code",
      "execution_count": null,
      "metadata": {
        "id": "G_fNu0zs-996"
      },
      "outputs": [],
      "source": []
    }
  ],
  "metadata": {
    "accelerator": "GPU",
    "colab": {
      "machine_shape": "hm",
      "provenance": []
    },
    "kernelspec": {
      "display_name": "Python 3",
      "name": "python3"
    },
    "language_info": {
      "codemirror_mode": {
        "name": "ipython",
        "version": 3
      },
      "file_extension": ".py",
      "mimetype": "text/x-python",
      "name": "python",
      "nbconvert_exporter": "python",
      "pygments_lexer": "ipython3",
      "version": "3.10.0"
    }
  },
  "nbformat": 4,
  "nbformat_minor": 0
}
