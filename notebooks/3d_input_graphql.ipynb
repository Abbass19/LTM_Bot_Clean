{
 "cells": [
  {
   "cell_type": "code",
   "execution_count": 15,
   "metadata": {},
   "outputs": [],
   "source": [
    "import numpy as np\n",
    "import pandas as pd\n",
    "from datetime import datetime\n",
    "import json\n",
    "import requests\n",
    "\n",
    "import psycopg2\n",
    "import psycopg2.extras"
   ]
  },
  {
   "cell_type": "code",
   "execution_count": 16,
   "metadata": {},
   "outputs": [],
   "source": [
    "def building_data_sequences(data_X, data_Y, timesteps):\n",
    "    #generate data sequence with timesteps\n",
    "    X, y_MPNxP = [], [] \n",
    "    for i in range(len(data_X) - timesteps + 1):\n",
    "        sequence = data_X[i:(i + timesteps), :]\n",
    "        target = data_Y[i + timesteps - 1]\n",
    "        X.append(sequence)\n",
    "        y_MPNxP.append(target)\n",
    "    return np.array(X), np.array(y_MPNxP)"
   ]
  },
  {
   "cell_type": "code",
   "execution_count": 17,
   "metadata": {},
   "outputs": [],
   "source": [
    "def data_extractor(asset,cols=['DCP','DNCP','OPCP','HPCP','LPCP','CPCP','ACPCP','VTCP','MPN5P']):\n",
    "    # The credentials to conect to the database\n",
    "    hostname = 'database-1.ctzm0hf7fhri.eu-central-1.rds.amazonaws.com'\n",
    "    database = 'dyDATA_new'\n",
    "    username = 'postgres'\n",
    "    pwd = 'Proc2023awsrdspostgresql'\n",
    "    port_id = 5432\n",
    "    conn = None\n",
    "    asset_script=\"SELECT * FROM \"+'\\\"'+\"ASSET_\"+asset+'\\\"'+\".features_targets_input_view WHERE features_targets_input_view.\"+'\\\"'+\"cleaned_raw_features_environment_PK\"+'\\\"'+ \"= 4\"\n",
    "    # Here we select the active financial asset from the financial asset list table\n",
    "    try:\n",
    "        with psycopg2.connect(\n",
    "            host = hostname,\n",
    "            dbname = database,\n",
    "            user = username,\n",
    "            password = pwd,\n",
    "            port = port_id\n",
    "        ) as conn:\n",
    "            dataframe = pd.read_sql(asset_script,conn)\n",
    "    except Exception as error:\n",
    "        conn.close()\n",
    "        return error\n",
    "    finally:\n",
    "        if conn is not None:\n",
    "            conn.close()\n",
    "    dataframe = dataframe.filter(regex='|'.join(cols),axis=1)\n",
    "    \n",
    "    for i,j in zip(cols,dataframe.columns):\n",
    "        dataframe.rename(columns={j:i},inplace=True)\n",
    "    print(dataframe.tail())\n",
    "\n",
    "    return dataframe"
   ]
  },
  {
   "cell_type": "code",
   "execution_count": 18,
   "metadata": {},
   "outputs": [
    {
     "name": "stdout",
     "output_type": "stream",
     "text": [
      "             DCP     DNCP    OPCP    HPCP    LPCP    CPCP   ACPCP        VTCP  \\\n",
      "6084  2024-03-11  45362.0  403.76  405.68  401.26  404.52  404.52  16093600.0   \n",
      "6085  2024-03-12  45363.0  407.62  415.57  406.79  415.28  415.28  22427700.0   \n",
      "6086  2024-03-13  45364.0  418.10  418.18  411.45  415.10  415.10  17090500.0   \n",
      "6087  2024-03-14  45365.0  420.24  427.82  417.99  425.22  425.22  34113100.0   \n",
      "6088  2024-03-15  45366.0  419.29  422.60  412.79  416.42  416.42  45049800.0   \n",
      "\n",
      "       MPN5P  \n",
      "6084  415.57  \n",
      "6085  415.57  \n",
      "6086  415.57  \n",
      "6087  415.57  \n",
      "6088  415.57  \n"
     ]
    },
    {
     "name": "stderr",
     "output_type": "stream",
     "text": [
      "/tmp/ipykernel_54487/1301242928.py:19: UserWarning: pandas only supports SQLAlchemy connectable (engine/connection) or database string URI or sqlite3 DBAPI2 connection. Other DBAPI2 objects are not tested. Please consider using SQLAlchemy.\n",
      "  dataframe = pd.read_sql(asset_script,conn)\n"
     ]
    }
   ],
   "source": [
    "df = data_extractor(asset='MSFT')\n",
    "df['DCP'] = pd.to_datetime(df['DCP'])\n",
    "df.set_index('DCP', inplace=True) "
   ]
  },
  {
   "cell_type": "code",
   "execution_count": 19,
   "metadata": {},
   "outputs": [
    {
     "data": {
      "text/html": [
       "<div>\n",
       "<style scoped>\n",
       "    .dataframe tbody tr th:only-of-type {\n",
       "        vertical-align: middle;\n",
       "    }\n",
       "\n",
       "    .dataframe tbody tr th {\n",
       "        vertical-align: top;\n",
       "    }\n",
       "\n",
       "    .dataframe thead th {\n",
       "        text-align: right;\n",
       "    }\n",
       "</style>\n",
       "<table border=\"1\" class=\"dataframe\">\n",
       "  <thead>\n",
       "    <tr style=\"text-align: right;\">\n",
       "      <th></th>\n",
       "      <th>DNCP</th>\n",
       "      <th>OPCP</th>\n",
       "      <th>HPCP</th>\n",
       "      <th>LPCP</th>\n",
       "      <th>CPCP</th>\n",
       "      <th>ACPCP</th>\n",
       "      <th>VTCP</th>\n",
       "      <th>MPN5P</th>\n",
       "    </tr>\n",
       "    <tr>\n",
       "      <th>DCP</th>\n",
       "      <th></th>\n",
       "      <th></th>\n",
       "      <th></th>\n",
       "      <th></th>\n",
       "      <th></th>\n",
       "      <th></th>\n",
       "      <th></th>\n",
       "      <th></th>\n",
       "    </tr>\n",
       "  </thead>\n",
       "  <tbody>\n",
       "    <tr>\n",
       "      <th>2024-03-11</th>\n",
       "      <td>45362.0</td>\n",
       "      <td>403.76</td>\n",
       "      <td>405.68</td>\n",
       "      <td>401.26</td>\n",
       "      <td>404.52</td>\n",
       "      <td>404.52</td>\n",
       "      <td>16093600.0</td>\n",
       "      <td>415.57</td>\n",
       "    </tr>\n",
       "    <tr>\n",
       "      <th>2024-03-12</th>\n",
       "      <td>45363.0</td>\n",
       "      <td>407.62</td>\n",
       "      <td>415.57</td>\n",
       "      <td>406.79</td>\n",
       "      <td>415.28</td>\n",
       "      <td>415.28</td>\n",
       "      <td>22427700.0</td>\n",
       "      <td>415.57</td>\n",
       "    </tr>\n",
       "    <tr>\n",
       "      <th>2024-03-13</th>\n",
       "      <td>45364.0</td>\n",
       "      <td>418.10</td>\n",
       "      <td>418.18</td>\n",
       "      <td>411.45</td>\n",
       "      <td>415.10</td>\n",
       "      <td>415.10</td>\n",
       "      <td>17090500.0</td>\n",
       "      <td>415.57</td>\n",
       "    </tr>\n",
       "    <tr>\n",
       "      <th>2024-03-14</th>\n",
       "      <td>45365.0</td>\n",
       "      <td>420.24</td>\n",
       "      <td>427.82</td>\n",
       "      <td>417.99</td>\n",
       "      <td>425.22</td>\n",
       "      <td>425.22</td>\n",
       "      <td>34113100.0</td>\n",
       "      <td>415.57</td>\n",
       "    </tr>\n",
       "    <tr>\n",
       "      <th>2024-03-15</th>\n",
       "      <td>45366.0</td>\n",
       "      <td>419.29</td>\n",
       "      <td>422.60</td>\n",
       "      <td>412.79</td>\n",
       "      <td>416.42</td>\n",
       "      <td>416.42</td>\n",
       "      <td>45049800.0</td>\n",
       "      <td>415.57</td>\n",
       "    </tr>\n",
       "  </tbody>\n",
       "</table>\n",
       "</div>"
      ],
      "text/plain": [
       "               DNCP    OPCP    HPCP    LPCP    CPCP   ACPCP        VTCP  \\\n",
       "DCP                                                                       \n",
       "2024-03-11  45362.0  403.76  405.68  401.26  404.52  404.52  16093600.0   \n",
       "2024-03-12  45363.0  407.62  415.57  406.79  415.28  415.28  22427700.0   \n",
       "2024-03-13  45364.0  418.10  418.18  411.45  415.10  415.10  17090500.0   \n",
       "2024-03-14  45365.0  420.24  427.82  417.99  425.22  425.22  34113100.0   \n",
       "2024-03-15  45366.0  419.29  422.60  412.79  416.42  416.42  45049800.0   \n",
       "\n",
       "             MPN5P  \n",
       "DCP                 \n",
       "2024-03-11  415.57  \n",
       "2024-03-12  415.57  \n",
       "2024-03-13  415.57  \n",
       "2024-03-14  415.57  \n",
       "2024-03-15  415.57  "
      ]
     },
     "execution_count": 19,
     "metadata": {},
     "output_type": "execute_result"
    }
   ],
   "source": [
    "df.tail()"
   ]
  },
  {
   "cell_type": "code",
   "execution_count": 20,
   "metadata": {},
   "outputs": [],
   "source": [
    "features = ['OPCP', 'HPCP', 'LPCP', 'CPCP', 'ACPCP', 'VTCP'] \n",
    "target = 'MPN5P'\n",
    "\n",
    "df = df[features + [target]]\n",
    "\n",
    "train_start = '2022-01-01'\n",
    "train_end = '2023-12-30'\n",
    "test_start = '2024-01-01'\n",
    "test_end = datetime.today()\n",
    "\n",
    "train = df.loc[(df.index >= train_start) & (df.index <= train_end)]\n",
    "test = df.loc[(df.index >= test_start) & (df.index <= test_end)]"
   ]
  },
  {
   "cell_type": "code",
   "execution_count": 21,
   "metadata": {},
   "outputs": [],
   "source": [
    "X_train = train.drop(\"MPN5P\", axis=1)\n",
    "y_train = train[\"MPN5P\"]\n",
    "X_test = test.drop(\"MPN5P\", axis=1)\n",
    "y_test = test[\"MPN5P\"]\n",
    "\n",
    "train_index = X_train.index\n",
    "test_index = X_test.index"
   ]
  },
  {
   "cell_type": "code",
   "execution_count": 22,
   "metadata": {},
   "outputs": [],
   "source": [
    "X_train_array =  X_train.to_numpy('float64')\n",
    "X_test_array = X_test.to_numpy('float64')\n",
    "y_train_array = y_train.to_numpy('float64')\n",
    "y_test_array = y_test.to_numpy('float64')"
   ]
  },
  {
   "cell_type": "code",
   "execution_count": 23,
   "metadata": {},
   "outputs": [],
   "source": [
    "X_train_seq, y_train_seq = building_data_sequences(X_train_array,y_train_array,10)\n",
    "X_test_seq, y_test_seq = building_data_sequences(X_test_array,y_test_array,10)"
   ]
  },
  {
   "cell_type": "code",
   "execution_count": 24,
   "metadata": {},
   "outputs": [],
   "source": [
    "X_train_seq_array = X_train_seq.tolist()\n",
    "y_train_seq_array = y_train_seq.tolist()"
   ]
  },
  {
   "cell_type": "code",
   "execution_count": 25,
   "metadata": {},
   "outputs": [
    {
     "data": {
      "text/plain": [
       "492"
      ]
     },
     "execution_count": 25,
     "metadata": {},
     "output_type": "execute_result"
    }
   ],
   "source": [
    "len(y_train_seq_array)"
   ]
  },
  {
   "cell_type": "code",
   "execution_count": 26,
   "metadata": {},
   "outputs": [],
   "source": [
    "predict = json.dumps(True)\n",
    "timesteps = 3\n",
    "model_case_version_main_target_code = 5\n",
    "iteration = 2\n",
    "apply_hyperparameter_tuning = json.dumps(False)\n",
    "learning_rate=0.0005\n",
    "batch_size=64\n",
    "n_epochs=2\n",
    "attenuated_padding_value=1\n",
    "\n",
    "bot_config = {\n",
    "    'X_train': X_train_seq.tolist(),\n",
    "    'y_train': y_train_seq.tolist(),\n",
    "    'X_test': X_test_seq.tolist(),\n",
    "    'y_test': y_test_seq.tolist(),\n",
    "    'predict': predict,\n",
    "    'timesteps': timesteps,\n",
    "    'apply_hyperparameter_tuning': apply_hyperparameter_tuning,\n",
    "    'model_case_version_main_target_code': model_case_version_main_target_code,\n",
    "    'iteration': iteration,\n",
    "    'model_name': 'MPN5P_LTM_3_timesteps',\n",
    "    'learning_rate':learning_rate,\n",
    "    'batch_size': batch_size,\n",
    "    'n_epochs': n_epochs,\n",
    "    'attenuated_padding_value': attenuated_padding_value,\n",
    "    'endpoint': 'http://0.0.0.0:4000/graphql'\n",
    "}"
   ]
  },
  {
   "cell_type": "code",
   "execution_count": 27,
   "metadata": {},
   "outputs": [],
   "source": [
    "def fit_LTM_Bot(bot_config):\n",
    "    query = f\"\"\"\n",
    "        query {{\n",
    "            fitLongShortTermMemory(\n",
    "                X_train: {bot_config['X_train']}\n",
    "                y_train: {bot_config['y_train']}\n",
    "                X_test: {bot_config['X_test']}\n",
    "                y_test: {bot_config['y_test']}\n",
    "                predict: {bot_config['predict']}\n",
    "                timesteps: {bot_config['timesteps']}\n",
    "                apply_hyperparameter_tuning: {bot_config['apply_hyperparameter_tuning']}\n",
    "                model_case_version_main_target_code: {bot_config['model_case_version_main_target_code']}\n",
    "                iteration: {bot_config['iteration']}\n",
    "                model_name: {json.dumps(bot_config['model_name'])}\n",
    "                learning_rate: {bot_config['learning_rate']}\n",
    "                batch_size: {bot_config['batch_size']}\n",
    "                n_epochs: {bot_config['n_epochs']}\n",
    "                attenuated_padding_value: {bot_config['attenuated_padding_value']}\n",
    "            ){{\n",
    "                success,\n",
    "                error,\n",
    "                train_predictions,\n",
    "                test_predictions,\n",
    "                model_path\n",
    "            }}\n",
    "        }}\n",
    "    \"\"\"\n",
    "\n",
    "    endpoint = bot_config['endpoint']\n",
    "    headers = {\n",
    "            'Accept-Encoding': 'gzip, deflate, br',\n",
    "            'Content-Type': 'application/json',\n",
    "            'Accept': 'application/json',\n",
    "            'Connection': 'keep-alive',\n",
    "            'DNT': '1'\n",
    "        }\n",
    "\n",
    "    response = requests.post(endpoint,json={\"query\":query},headers=headers).json()\n",
    "    return response"
   ]
  },
  {
   "cell_type": "code",
   "execution_count": 28,
   "metadata": {},
   "outputs": [
    {
     "name": "stdout",
     "output_type": "stream",
     "text": [
      "{'data': {'fitLongShortTermMemory': {'error': None, 'model_path': '\"/home/ubuntu/LTM-Long-short_Term_Memory.Bot-API_0.00/models/lstm_model.h5\"', 'success': True}}}\n"
     ]
    }
   ],
   "source": [
    "fit_response = fit_LTM_Bot(bot_config)\n",
    "print(fit_response)"
   ]
  },
  {
   "cell_type": "code",
   "execution_count": 29,
   "metadata": {},
   "outputs": [
    {
     "data": {
      "text/plain": [
       "{'fitLongShortTermMemory': {'error': None,\n",
       "  'model_path': '\"/home/ubuntu/LTM-Long-short_Term_Memory.Bot-API_0.00/models/lstm_model.h5\"',\n",
       "  'success': True}}"
      ]
     },
     "execution_count": 29,
     "metadata": {},
     "output_type": "execute_result"
    }
   ],
   "source": [
    "fit_response['data']"
   ]
  },
  {
   "cell_type": "code",
   "execution_count": null,
   "metadata": {},
   "outputs": [],
   "source": []
  }
 ],
 "metadata": {
  "kernelspec": {
   "display_name": "Python 3",
   "language": "python",
   "name": "python3"
  },
  "language_info": {
   "codemirror_mode": {
    "name": "ipython",
    "version": 3
   },
   "file_extension": ".py",
   "mimetype": "text/x-python",
   "name": "python",
   "nbconvert_exporter": "python",
   "pygments_lexer": "ipython3",
   "version": "3.10.12"
  }
 },
 "nbformat": 4,
 "nbformat_minor": 2
}
