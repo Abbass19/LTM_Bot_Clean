{
 "cells": [
  {
   "cell_type": "code",
   "execution_count": 1,
   "metadata": {},
   "outputs": [],
   "source": [
    "import pandas as pd \n",
    "import numpy as np \n",
    "from sklearn.metrics import mean_squared_error"
   ]
  },
  {
   "cell_type": "code",
   "execution_count": 2,
   "metadata": {},
   "outputs": [
    {
     "data": {
      "text/html": [
       "<div>\n",
       "<style scoped>\n",
       "    .dataframe tbody tr th:only-of-type {\n",
       "        vertical-align: middle;\n",
       "    }\n",
       "\n",
       "    .dataframe tbody tr th {\n",
       "        vertical-align: top;\n",
       "    }\n",
       "\n",
       "    .dataframe thead th {\n",
       "        text-align: right;\n",
       "    }\n",
       "</style>\n",
       "<table border=\"1\" class=\"dataframe\">\n",
       "  <thead>\n",
       "    <tr style=\"text-align: right;\">\n",
       "      <th></th>\n",
       "      <th>OPCP</th>\n",
       "      <th>HPCP</th>\n",
       "      <th>LPCP</th>\n",
       "      <th>CPCP</th>\n",
       "      <th>ACPCP</th>\n",
       "      <th>VTCP</th>\n",
       "      <th>MPN5P</th>\n",
       "    </tr>\n",
       "    <tr>\n",
       "      <th>DATE</th>\n",
       "      <th></th>\n",
       "      <th></th>\n",
       "      <th></th>\n",
       "      <th></th>\n",
       "      <th></th>\n",
       "      <th></th>\n",
       "      <th></th>\n",
       "    </tr>\n",
       "  </thead>\n",
       "  <tbody>\n",
       "    <tr>\n",
       "      <th>2000-02-29</th>\n",
       "      <td>45.87500</td>\n",
       "      <td>45.875000</td>\n",
       "      <td>44.43750</td>\n",
       "      <td>44.68750</td>\n",
       "      <td>27.880445</td>\n",
       "      <td>58437400</td>\n",
       "      <td>46.765625</td>\n",
       "    </tr>\n",
       "    <tr>\n",
       "      <th>2000-03-01</th>\n",
       "      <td>44.81250</td>\n",
       "      <td>47.046875</td>\n",
       "      <td>44.46875</td>\n",
       "      <td>45.40625</td>\n",
       "      <td>28.328880</td>\n",
       "      <td>106889800</td>\n",
       "      <td>47.070312</td>\n",
       "    </tr>\n",
       "    <tr>\n",
       "      <th>2000-03-02</th>\n",
       "      <td>45.90625</td>\n",
       "      <td>47.687500</td>\n",
       "      <td>45.56250</td>\n",
       "      <td>46.68750</td>\n",
       "      <td>29.128248</td>\n",
       "      <td>106932600</td>\n",
       "      <td>47.656250</td>\n",
       "    </tr>\n",
       "    <tr>\n",
       "      <th>2000-03-03</th>\n",
       "      <td>47.37500</td>\n",
       "      <td>49.437500</td>\n",
       "      <td>46.93750</td>\n",
       "      <td>48.06250</td>\n",
       "      <td>29.986110</td>\n",
       "      <td>101435200</td>\n",
       "      <td>48.000000</td>\n",
       "    </tr>\n",
       "    <tr>\n",
       "      <th>2000-03-06</th>\n",
       "      <td>48.00000</td>\n",
       "      <td>48.687500</td>\n",
       "      <td>45.06250</td>\n",
       "      <td>45.31250</td>\n",
       "      <td>28.270390</td>\n",
       "      <td>93609400</td>\n",
       "      <td>48.750000</td>\n",
       "    </tr>\n",
       "  </tbody>\n",
       "</table>\n",
       "</div>"
      ],
      "text/plain": [
       "                OPCP       HPCP      LPCP      CPCP      ACPCP       VTCP  \\\n",
       "DATE                                                                        \n",
       "2000-02-29  45.87500  45.875000  44.43750  44.68750  27.880445   58437400   \n",
       "2000-03-01  44.81250  47.046875  44.46875  45.40625  28.328880  106889800   \n",
       "2000-03-02  45.90625  47.687500  45.56250  46.68750  29.128248  106932600   \n",
       "2000-03-03  47.37500  49.437500  46.93750  48.06250  29.986110  101435200   \n",
       "2000-03-06  48.00000  48.687500  45.06250  45.31250  28.270390   93609400   \n",
       "\n",
       "                MPN5P  \n",
       "DATE                   \n",
       "2000-02-29  46.765625  \n",
       "2000-03-01  47.070312  \n",
       "2000-03-02  47.656250  \n",
       "2000-03-03  48.000000  \n",
       "2000-03-06  48.750000  "
      ]
     },
     "execution_count": 2,
     "metadata": {},
     "output_type": "execute_result"
    }
   ],
   "source": [
    "dataframe = pd.read_csv('../data/msft_raw.csv', index_col='DATE', usecols=['DATE','OPCP','HPCP','LPCP','CPCP','ACPCP','VTCP', 'MPN5P'])\n",
    "\n",
    "dataframe.head()"
   ]
  },
  {
   "cell_type": "code",
   "execution_count": 3,
   "metadata": {},
   "outputs": [
    {
     "name": "stdout",
     "output_type": "stream",
     "text": [
      "Train shape:  (5705, 7)\n",
      "test shape (172, 7)\n"
     ]
    }
   ],
   "source": [
    "train_end = '2022-10-28'\n",
    "train = dataframe.loc[:train_end,:]\n",
    "test = dataframe.loc[train_end:,:].drop(train_end,axis=0)\n",
    "\n",
    "print('Train shape: ', train.shape)\n",
    "print('test shape', test.shape)"
   ]
  },
  {
   "cell_type": "code",
   "execution_count": 4,
   "metadata": {},
   "outputs": [],
   "source": [
    "def split_series(dataframe,n_past,n_future):\n",
    "    series = dataframe.values\n",
    "    X,y = list(),list()\n",
    "    for window_start in range(len(series)):\n",
    "        past_end = window_start + n_past\n",
    "        future_end = past_end + n_future    \n",
    "        if future_end > len(series):\n",
    "            break\n",
    "        past, future = series[window_start:past_end, :], series[past_end:future_end, :]\n",
    "        X.append(past)\n",
    "        y.append(future)\n",
    "\n",
    "    return np.array(X),np.array(y)"
   ]
  },
  {
   "cell_type": "code",
   "execution_count": 5,
   "metadata": {},
   "outputs": [
    {
     "name": "stdout",
     "output_type": "stream",
     "text": [
      "X train shape (5605, 100, 7) y_train shape (5605, 1, 7)\n"
     ]
    }
   ],
   "source": [
    "n_past = 100\n",
    "n_future = 1\n",
    "\n",
    "X_train, y_train = split_series(train,n_past,n_future)\n",
    "print(f'X train shape {X_train.shape} y_train shape {y_train.shape}')"
   ]
  },
  {
   "cell_type": "code",
   "execution_count": null,
   "metadata": {},
   "outputs": [],
   "source": []
  }
 ],
 "metadata": {
  "kernelspec": {
   "display_name": "Python 3",
   "language": "python",
   "name": "python3"
  },
  "language_info": {
   "codemirror_mode": {
    "name": "ipython",
    "version": 3
   },
   "file_extension": ".py",
   "mimetype": "text/x-python",
   "name": "python",
   "nbconvert_exporter": "python",
   "pygments_lexer": "ipython3",
   "version": "3.8.10"
  }
 },
 "nbformat": 4,
 "nbformat_minor": 2
}
