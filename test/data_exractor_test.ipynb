{
 "cells": [
  {
   "cell_type": "code",
   "execution_count": 37,
   "metadata": {},
   "outputs": [],
   "source": [
    "import pandas as pd\n",
    "import psycopg2\n",
    "import psycopg2.extras\n",
    "from psycopg2.extensions import AsIs\n",
    "import numpy as np\n",
    "from datetime import datetime\n",
    "import matplotlib.pyplot as plt\n",
    "\n",
    "pd.set_option.max_columns = None\n",
    "\n",
    "plt.style.use('ggplot')\n",
    "plt.rc(\n",
    "    'figure',\n",
    "    autolayout=True,\n",
    "    figsize=(11,4)\n",
    ")\n",
    "\n",
    "plt.rc(\n",
    "    'axes',\n",
    "    labelweight='bold',\n",
    "    labelsize='large',\n",
    "    titleweight='bold',\n",
    "    titlesize=20,\n",
    "    titlepad=10\n",
    ")\n",
    "\n",
    "\n",
    "\n",
    "def data_extractor(asset,cols=['DCP','DNCP','OPCP','HPCP','LPCP','CPCP','ACPCP','VTCP','MPN5P']):\n",
    "    # The credentials to conect to the database\n",
    "    hostname = 'database-1.ctzm0hf7fhri.eu-central-1.rds.amazonaws.com'\n",
    "    database = 'dyDATA_new'\n",
    "    username = 'postgres'\n",
    "    pwd = 'Proc2023awsrdspostgresql'\n",
    "    port_id = 5432\n",
    "    conn = None\n",
    "    asset_script=\"SELECT * FROM \"+'\\\"'+\"ASSET_\"+asset+'\\\"'+\".features_targets_input_view WHERE features_targets_input_view.\"+'\\\"'+\"cleaned_raw_features_environment_PK\"+'\\\"'+ \"= 4\"\n",
    "    # Here we select the active financial asset from the financial asset list table\n",
    "    try:\n",
    "        with psycopg2.connect(\n",
    "            host = hostname,\n",
    "            dbname = database,\n",
    "            user = username,\n",
    "            password = pwd,\n",
    "            port = port_id\n",
    "        ) as conn:\n",
    "            dataframe = pd.read_sql(asset_script,conn)\n",
    "    except Exception as error:\n",
    "        conn.close()\n",
    "        return error\n",
    "    finally:\n",
    "        if conn is not None:\n",
    "            conn.close()\n",
    "    dataframe = dataframe.filter(regex='|'.join(cols),axis=1)\n",
    "    \n",
    "    for i,j in zip(cols,dataframe.columns):\n",
    "        dataframe.rename(columns={j:i},inplace=True)\n",
    "\n",
    "    return dataframe"
   ]
  },
  {
   "cell_type": "code",
   "execution_count": 38,
   "metadata": {},
   "outputs": [
    {
     "name": "stderr",
     "output_type": "stream",
     "text": [
      "/tmp/ipykernel_5692/3988927883.py:47: UserWarning: pandas only supports SQLAlchemy connectable (engine/connection) or database string URI or sqlite3 DBAPI2 connection. Other DBAPI2 objects are not tested. Please consider using SQLAlchemy.\n",
      "  dataframe = pd.read_sql(asset_script,conn)\n"
     ]
    },
    {
     "data": {
      "text/html": [
       "<div>\n",
       "<style scoped>\n",
       "    .dataframe tbody tr th:only-of-type {\n",
       "        vertical-align: middle;\n",
       "    }\n",
       "\n",
       "    .dataframe tbody tr th {\n",
       "        vertical-align: top;\n",
       "    }\n",
       "\n",
       "    .dataframe thead th {\n",
       "        text-align: right;\n",
       "    }\n",
       "</style>\n",
       "<table border=\"1\" class=\"dataframe\">\n",
       "  <thead>\n",
       "    <tr style=\"text-align: right;\">\n",
       "      <th></th>\n",
       "      <th>DNCP</th>\n",
       "      <th>OPCP</th>\n",
       "      <th>HPCP</th>\n",
       "      <th>LPCP</th>\n",
       "      <th>CPCP</th>\n",
       "      <th>ACPCP</th>\n",
       "      <th>VTCP</th>\n",
       "      <th>MPN5P</th>\n",
       "    </tr>\n",
       "    <tr>\n",
       "      <th>DCP</th>\n",
       "      <th></th>\n",
       "      <th></th>\n",
       "      <th></th>\n",
       "      <th></th>\n",
       "      <th></th>\n",
       "      <th></th>\n",
       "      <th></th>\n",
       "      <th></th>\n",
       "    </tr>\n",
       "  </thead>\n",
       "  <tbody>\n",
       "    <tr>\n",
       "      <th>2000-01-03</th>\n",
       "      <td>36528.0</td>\n",
       "      <td>58.68750</td>\n",
       "      <td>59.3125</td>\n",
       "      <td>56.00000</td>\n",
       "      <td>58.28125</td>\n",
       "      <td>36.282272</td>\n",
       "      <td>53228400.0</td>\n",
       "      <td>56.125000</td>\n",
       "    </tr>\n",
       "    <tr>\n",
       "      <th>2000-01-04</th>\n",
       "      <td>36529.0</td>\n",
       "      <td>56.78125</td>\n",
       "      <td>58.5625</td>\n",
       "      <td>56.12500</td>\n",
       "      <td>56.31250</td>\n",
       "      <td>35.056644</td>\n",
       "      <td>54119000.0</td>\n",
       "      <td>55.718750</td>\n",
       "    </tr>\n",
       "    <tr>\n",
       "      <th>2000-01-05</th>\n",
       "      <td>36530.0</td>\n",
       "      <td>55.56250</td>\n",
       "      <td>58.1875</td>\n",
       "      <td>54.68750</td>\n",
       "      <td>56.90625</td>\n",
       "      <td>35.426260</td>\n",
       "      <td>64059600.0</td>\n",
       "      <td>55.476562</td>\n",
       "    </tr>\n",
       "    <tr>\n",
       "      <th>2000-01-06</th>\n",
       "      <td>36531.0</td>\n",
       "      <td>56.09375</td>\n",
       "      <td>56.9375</td>\n",
       "      <td>54.18750</td>\n",
       "      <td>55.00000</td>\n",
       "      <td>34.239563</td>\n",
       "      <td>54976600.0</td>\n",
       "      <td>54.437500</td>\n",
       "    </tr>\n",
       "    <tr>\n",
       "      <th>2000-01-07</th>\n",
       "      <td>36532.0</td>\n",
       "      <td>54.31250</td>\n",
       "      <td>56.1250</td>\n",
       "      <td>53.65625</td>\n",
       "      <td>55.71875</td>\n",
       "      <td>34.687000</td>\n",
       "      <td>62013600.0</td>\n",
       "      <td>54.437500</td>\n",
       "    </tr>\n",
       "  </tbody>\n",
       "</table>\n",
       "</div>"
      ],
      "text/plain": [
       "               DNCP      OPCP     HPCP      LPCP      CPCP      ACPCP  \\\n",
       "DCP                                                                     \n",
       "2000-01-03  36528.0  58.68750  59.3125  56.00000  58.28125  36.282272   \n",
       "2000-01-04  36529.0  56.78125  58.5625  56.12500  56.31250  35.056644   \n",
       "2000-01-05  36530.0  55.56250  58.1875  54.68750  56.90625  35.426260   \n",
       "2000-01-06  36531.0  56.09375  56.9375  54.18750  55.00000  34.239563   \n",
       "2000-01-07  36532.0  54.31250  56.1250  53.65625  55.71875  34.687000   \n",
       "\n",
       "                  VTCP      MPN5P  \n",
       "DCP                                \n",
       "2000-01-03  53228400.0  56.125000  \n",
       "2000-01-04  54119000.0  55.718750  \n",
       "2000-01-05  64059600.0  55.476562  \n",
       "2000-01-06  54976600.0  54.437500  \n",
       "2000-01-07  62013600.0  54.437500  "
      ]
     },
     "execution_count": 38,
     "metadata": {},
     "output_type": "execute_result"
    }
   ],
   "source": [
    "df = data_extractor(asset='MSFT')\n",
    "df['DCP'] = pd.to_datetime(df['DCP'])\n",
    "df.set_index('DCP',inplace=True)\n",
    "\n",
    "df.head()"
   ]
  },
  {
   "cell_type": "code",
   "execution_count": 39,
   "metadata": {},
   "outputs": [],
   "source": [
    "today = datetime.today().strftime('%Y-%m-%-d')\n",
    "\n",
    "train_end = '2021-12-31'\n",
    "validation_end = '2022-12-31'\n",
    "test_end = today \n",
    "\n",
    "train = df.loc[:train_end,:]\n",
    "validation = df.loc[train_end:validation_end,:].drop(train_end)\n",
    "test = df.loc[validation_end:test_end]"
   ]
  },
  {
   "cell_type": "code",
   "execution_count": 43,
   "metadata": {},
   "outputs": [
    {
     "data": {
      "text/plain": [
       "<Axes: xlabel='DCP'>"
      ]
     },
     "execution_count": 43,
     "metadata": {},
     "output_type": "execute_result"
    },
    {
     "data": {
      "image/png": "[encoded data removed]",
      "text/plain": [
       "<Figure size 1100x400 with 1 Axes>"
      ]
     },
     "metadata": {},
     "output_type": "display_data"
    }
   ],
   "source": [
    "ax = train['MPN5P'].plot()\n",
    "\n",
    "validation['MPN5P'].plot(ax=ax)\n",
    "test['MPN5P'].plot(ax=ax)"
   ]
  },
  {
   "cell_type": "code",
   "execution_count": 41,
   "metadata": {},
   "outputs": [
    {
     "ename": "SyntaxError",
     "evalue": "invalid syntax (599385449.py, line 1)",
     "output_type": "error",
     "traceback": [
      "\u001b[0;36m  Cell \u001b[0;32mIn[41], line 1\u001b[0;36m\u001b[0m\n\u001b[0;31m    ax =\u001b[0m\n\u001b[0m        ^\u001b[0m\n\u001b[0;31mSyntaxError\u001b[0m\u001b[0;31m:\u001b[0m invalid syntax\n"
     ]
    }
   ],
   "source": [
    "ax ="
   ]
  },
  {
   "cell_type": "code",
   "execution_count": null,
   "metadata": {},
   "outputs": [],
   "source": []
  }
 ],
 "metadata": {
  "kernelspec": {
   "display_name": "Python 3",
   "language": "python",
   "name": "python3"
  },
  "language_info": {
   "codemirror_mode": {
    "name": "ipython",
    "version": 3
   },
   "file_extension": ".py",
   "mimetype": "text/x-python",
   "name": "python",
   "nbconvert_exporter": "python",
   "pygments_lexer": "ipython3",
   "version": "3.8.10"
  }
 },
 "nbformat": 4,
 "nbformat_minor": 2
}
